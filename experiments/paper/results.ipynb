{
 "cells": [
  {
   "cell_type": "code",
   "execution_count": 1,
   "metadata": {},
   "outputs": [],
   "source": [
    "import matplotlib.pyplot as plt\n",
    "import io\n",
    "from PIL import Image, ImageChops\n",
    "\n",
    "white = (255, 255, 255, 255)\n",
    "\n",
    "def latex_to_img(tex):\n",
    "    buf = io.BytesIO()\n",
    "    plt.rc('text', usetex=True)\n",
    "    plt.rc('font', family='serif')\n",
    "    plt.axis('off')\n",
    "    plt.text(0.05, 0.5, f'${tex}$', size=40)\n",
    "    plt.savefig(buf, format='png')\n",
    "    plt.close()\n",
    "\n",
    "    im = Image.open(buf)\n",
    "    bg = Image.new(im.mode, im.size, white)\n",
    "    diff = ImageChops.difference(im, bg)\n",
    "    diff = ImageChops.add(diff, diff, 2.0, -100)\n",
    "    bbox = diff.getbbox()\n",
    "    return im.crop(bbox)"
   ]
  },
  {
   "cell_type": "code",
   "execution_count": 4,
   "metadata": {},
   "outputs": [],
   "source": [
    "from scipy.stats import wilcoxon\n",
    "import pandas as pd\n",
    "\n",
    "pd.set_option('display.max_rows', 500)\n",
    "pd.set_option('display.max_columns', 500)\n",
    "pd.set_option('display.width', 1000)\n",
    "pd.options.display.float_format = '{:.5f}'.format\n",
    "\n",
    "def wilcoxon_test(results_best,results_compare):\n",
    "    pvalue = wilcoxon(x=results_best,y=results_compare).pvalue\n",
    "    if pvalue<=0.001:\n",
    "        return {}\n",
    "    elif pvalue>0.001 and pvalue<0.05:\n",
    "        return {'dag':'--rwrap'}\n",
    "    else:\n",
    "        return {'ddag':'--rwrap'}"
   ]
  },
  {
   "cell_type": "code",
   "execution_count": 2,
   "metadata": {},
   "outputs": [
    {
     "name": "stderr",
     "output_type": "stream",
     "text": [
      "<>:42: SyntaxWarning: invalid escape sequence '\\p'\n",
      "<>:42: SyntaxWarning: invalid escape sequence '\\p'\n",
      "/tmp/ipykernel_307829/1539875102.py:42: SyntaxWarning: invalid escape sequence '\\p'\n",
      "  return \"{:.5f}\".format(x)+' $\\pm$ ' +\"{:.5f}\".format(std)\n"
     ]
    }
   ],
   "source": [
    "import pandas as pd\n",
    "import os\n",
    "from functools import partial\n",
    "\n",
    "export_dir = '/media/nas/pgonzalez/a2032'\n",
    "\n",
    "path = \"results\"\n",
    "\n",
    "def show_results_table(experiment_names,base_path='', include_std=False, row_names=None,error_measures=['AE','RAE']):\n",
    "    table = pd.DataFrame(columns=error_measures,dtype='float')\n",
    "    results_error = {}\n",
    "    for error_measure in error_measures:\n",
    "        results_error[error_measure] = dict()\n",
    "\n",
    "\n",
    "    for experiment in experiment_names:\n",
    "        results = pd.read_csv(os.path.join(base_path,path,experiment+'_errors.txt'))\n",
    "        for error_measure in error_measures:\n",
    "            results_error[error_measure][experiment] =results[error_measure]\n",
    "            table.loc[experiment,error_measure] = results[error_measure].mean()\n",
    "\n",
    "    #table = table.style.highlight_min(color = 'yellow', axis = 0)\n",
    "\n",
    "    #get best method for ae and best method for rae\n",
    "    best_method = {}\n",
    "    for error_measure in error_measures:\n",
    "        best_method[error_measure] = table.index[table[error_measure].argmin()]\n",
    "\n",
    "    table_style = table.style\n",
    "\n",
    "    #make wixcolom testing MAE\n",
    "    for experiment in experiment_names:\n",
    "        for error_measure in error_measures:\n",
    "            if experiment!=best_method[error_measure]:\n",
    "                table_style.set_properties(subset=(experiment,error_measure),**wilcoxon_test(results_error[error_measure][experiment],results_error[error_measure][best_method[error_measure]]))\n",
    "        \n",
    "    for error_measure in error_measures:    \n",
    "        table_style = table_style.highlight_min(axis=0,props='textbf:--rwrap;',subset=error_measure)\n",
    "    #table = table.style.highlight_min(color = 'yellow', axis = 0)\n",
    "\n",
    "    def add_deviation(x,std):\n",
    "        return \"{:.5f}\".format(x)+' $\\pm$ ' +\"{:.5f}\".format(std)\n",
    "\n",
    "    use_f = lambda x: partial(add_deviation, std=x)\n",
    "    formatters = [add_deviation]\n",
    "\n",
    "    if include_std:\n",
    "        for experiment_name in experiment_names:\n",
    "            for error_measure in error_measures:\n",
    "                std_value = results_error[error_measure][experiment_name].std()\n",
    "                table_style = table_style.format(formatter=use_f(std_value),subset=(experiment_name,error_measure))\n",
    "            \n",
    "\n",
    "    latex_code = table_style.to_latex(hrules=True,column_format=\"r|\"+\"r\"*len(table.columns))\n",
    "    if row_names is not None:\n",
    "        for experiment_name,row_name in zip(experiment_names,row_names):\n",
    "            latex_code = latex_code.replace(experiment_name,row_name)\n",
    "\n",
    "    return latex_code.replace(\"_\",\"\\\\_\"), results_error"
   ]
  },
  {
   "cell_type": "markdown",
   "metadata": {},
   "source": [
    "## Results T1A"
   ]
  },
  {
   "cell_type": "code",
   "execution_count": 5,
   "metadata": {},
   "outputs": [
    {
     "name": "stdout",
     "output_type": "stream",
     "text": [
      "\\begin{tabular}{r|rr}\n",
      "\\toprule\n",
      " & AE & RAE \\\\\n",
      "\\midrule\n",
      "CC & 0.09160 $\\pm$ 0.05540 & 1.08400 $\\pm$ 4.31090 \\\\\n",
      "PCC & 0.11664 $\\pm$ 0.06978 & 1.39402 $\\pm$ 5.62123 \\\\\n",
      "ACC & 0.03716 $\\pm$ 0.02936 & 0.17020 $\\pm$ 0.50800 \\\\\n",
      "PACC & 0.02985 $\\pm$ 0.02258 & 0.15218 $\\pm$ 0.46440 \\\\\n",
      "HDy & 0.02814 $\\pm$ 0.02212 & 0.14514 $\\pm$ 0.45621 \\\\\n",
      "QuaNet & 0.03418 $\\pm$ 0.02528 & 0.31764 $\\pm$ 1.35237 \\\\\n",
      "EMQ-BCTS & 0.02689 $\\pm$ 0.02094 & 0.11828 $\\pm$ 0.25065 \\\\\n",
      "EMQ-NoCal & 0.02359 $\\pm$ 0.01845 & 0.10878 $\\pm$ 0.26668 \\\\\n",
      "Deepsets (avg) & 0.02779 $\\pm$ 0.02105 & 0.12686 $\\pm$ 0.22817 \\\\\n",
      "Deepsets (max) & 0.04991 $\\pm$ 0.04167 & 0.21830 $\\pm$ 0.48828 \\\\\n",
      "Deepsets (median) & 0.02919 $\\pm$ 0.02273 & 0.13887 $\\pm$ 0.25631 \\\\\n",
      "SetTransformers & \\ddag{0.02246 $\\pm$ 0.01717} & \\ddag{0.10958 $\\pm$ 0.26205} \\\\\n",
      "HistNetQ & \\textbf{0.02236 $\\pm$ 0.01709} & \\textbf{0.10707 $\\pm$ 0.23312} \\\\\n",
      "\\bottomrule\n",
      "\\end{tabular}\n",
      "\n"
     ]
    }
   ],
   "source": [
    "experiment_names = [\"CC_T1A\",\"PCC_T1A\",\"ACC_T1A\",\"PACC_T1A\",\"HDy_T1A\",\"QuaNet_T1A\",\"EMQ_BCTS_T1A\",\"EMQ_NoCal_T1A\",\"deepsets_avg_T1A\",\"deepsets_max_T1A\",\"deepsets_median_T1A\",\"settransformers_T1A\",\"histnet_hard_T1A\"]\n",
    "row_names = [\"CC\",\"PCC\",\"ACC\",\"PACC\",\"HDy\",\"QuaNet\",\"EMQ-BCTS\",\"EMQ-NoCal\",\"Deepsets (avg)\",\"Deepsets (max)\",\"Deepsets (median)\",\"SetTransformers\",\"HistNetQ\"]\n",
    "t1a_table,_ = show_results_table(experiment_names=experiment_names, base_path='', include_std=True,error_measures=['AE','RAE'], row_names=row_names)\n",
    "print(t1a_table)\n",
    "with open(os.path.join(export_dir,'tables/t1a_table.tex'),'w') as f:\n",
    "    f.write(t1a_table)\n"
   ]
  },
  {
   "cell_type": "markdown",
   "metadata": {},
   "source": [
    "## Results T1B"
   ]
  },
  {
   "cell_type": "code",
   "execution_count": 6,
   "metadata": {},
   "outputs": [
    {
     "name": "stdout",
     "output_type": "stream",
     "text": [
      "\\begin{tabular}{r|rr}\n",
      "\\toprule\n",
      " & AE & RAE \\\\\n",
      "\\midrule\n",
      "Deepsets (avg) & 0.01283 $\\pm$ 0.00379 & 0.99542 $\\pm$ 0.65778 \\\\\n",
      "Deepsets (max) & 0.02766 $\\pm$ 0.00515 & 1.46464 $\\pm$ 1.02644 \\\\\n",
      "Deepsets (median) & 0.01429 $\\pm$ 0.00432 & 0.84427 $\\pm$ 0.54286 \\\\\n",
      "SetTransformers & 0.03847 $\\pm$ 0.00779 & 1.67475 $\\pm$ 1.42750 \\\\\n",
      "HistNetQ & \\textbf{0.01070 $\\pm$ 0.00367} & \\textbf{0.75739 $\\pm$ 0.48891} \\\\\n",
      "CC & 0.01406 $\\pm$ 0.00295 & 1.89365 $\\pm$ 1.18732 \\\\\n",
      "PCC & 0.01711 $\\pm$ 0.00332 & 2.26462 $\\pm$ 1.41627 \\\\\n",
      "ACC & 0.01841 $\\pm$ 0.00437 & 1.42134 $\\pm$ 1.26971 \\\\\n",
      "PACC & 0.01578 $\\pm$ 0.00379 & 1.30538 $\\pm$ 0.98837 \\\\\n",
      "EMQ-BCTS & 0.01174 $\\pm$ 0.00305 & 0.93721 $\\pm$ 0.81732 \\\\\n",
      "EMQ-NoCal & 0.01177 $\\pm$ 0.00285 & 0.87802 $\\pm$ 0.75120 \\\\\n",
      "\\bottomrule\n",
      "\\end{tabular}\n",
      "\n"
     ]
    }
   ],
   "source": [
    "experiment_names = [\"deepsets_avg_T1B\",\"deepsets_max_T1B\",\"deepsets_median_T1B\",\"settransformers_T1B\",\"histnet_hard_T1B_64bins\",\"CC_T1B\",\"PCC_T1B\",\"ACC_T1B\",\"PACC_T1B\",\"EMQ_BCTS_T1B\",\"EMQ_NoCal_T1B\"]\n",
    "row_names = [\"Deepsets (avg)\",\"Deepsets (max)\",\"Deepsets (median)\",\"SetTransformers\",\"HistNetQ\",\"CC\",\"PCC\",\"ACC\",\"PACC\",\"EMQ-BCTS\",\"EMQ-NoCal\"]\n",
    "t1b_table,_=show_results_table(experiment_names,include_std=True,row_names=row_names)\n",
    "print(t1b_table)\n",
    "with open(os.path.join(export_dir,'tables/t1b_table.tex'),'w') as f:\n",
    "    f.write(t1b_table)"
   ]
  },
  {
   "cell_type": "markdown",
   "metadata": {},
   "source": [
    "## Results T1"
   ]
  },
  {
   "cell_type": "code",
   "execution_count": 7,
   "metadata": {},
   "outputs": [
    {
     "ename": "FileNotFoundError",
     "evalue": "[Errno 2] No such file or directory: 'results/CC_T1_errors.txt'",
     "output_type": "error",
     "traceback": [
      "\u001b[0;31m---------------------------------------------------------------------------\u001b[0m",
      "\u001b[0;31mFileNotFoundError\u001b[0m                         Traceback (most recent call last)",
      "Cell \u001b[0;32mIn[7], line 3\u001b[0m\n\u001b[1;32m      1\u001b[0m experiment_names \u001b[38;5;241m=\u001b[39m [\u001b[38;5;124m\"\u001b[39m\u001b[38;5;124mCC_T1\u001b[39m\u001b[38;5;124m\"\u001b[39m,\u001b[38;5;124m\"\u001b[39m\u001b[38;5;124mPCC_T1\u001b[39m\u001b[38;5;124m\"\u001b[39m,\u001b[38;5;124m\"\u001b[39m\u001b[38;5;124mACC_T1\u001b[39m\u001b[38;5;124m\"\u001b[39m,\u001b[38;5;124m\"\u001b[39m\u001b[38;5;124mPACC_T1\u001b[39m\u001b[38;5;124m\"\u001b[39m,\u001b[38;5;124m\"\u001b[39m\u001b[38;5;124mHDy_T1\u001b[39m\u001b[38;5;124m\"\u001b[39m,\u001b[38;5;124m\"\u001b[39m\u001b[38;5;124mQuaNet_T1\u001b[39m\u001b[38;5;124m\"\u001b[39m,\u001b[38;5;124m\"\u001b[39m\u001b[38;5;124mEMQ_BCTS_T1\u001b[39m\u001b[38;5;124m\"\u001b[39m,\u001b[38;5;124m\"\u001b[39m\u001b[38;5;124mEMQ_NoCal_T1\u001b[39m\u001b[38;5;124m\"\u001b[39m,\u001b[38;5;124m\"\u001b[39m\u001b[38;5;124mdeepsets_avg_T1\u001b[39m\u001b[38;5;124m\"\u001b[39m,\u001b[38;5;124m\"\u001b[39m\u001b[38;5;124mdeepsets_max_T1\u001b[39m\u001b[38;5;124m\"\u001b[39m,\u001b[38;5;124m\"\u001b[39m\u001b[38;5;124mdeepsets_median_T1\u001b[39m\u001b[38;5;124m\"\u001b[39m,\u001b[38;5;124m\"\u001b[39m\u001b[38;5;124msettransformers_T1\u001b[39m\u001b[38;5;124m\"\u001b[39m,\u001b[38;5;124m\"\u001b[39m\u001b[38;5;124mhistnet_hard_T1\u001b[39m\u001b[38;5;124m\"\u001b[39m]\n\u001b[1;32m      2\u001b[0m row_names \u001b[38;5;241m=\u001b[39m [\u001b[38;5;124m\"\u001b[39m\u001b[38;5;124mCC\u001b[39m\u001b[38;5;124m\"\u001b[39m,\u001b[38;5;124m\"\u001b[39m\u001b[38;5;124mPCC\u001b[39m\u001b[38;5;124m\"\u001b[39m,\u001b[38;5;124m\"\u001b[39m\u001b[38;5;124mACC\u001b[39m\u001b[38;5;124m\"\u001b[39m,\u001b[38;5;124m\"\u001b[39m\u001b[38;5;124mPACC\u001b[39m\u001b[38;5;124m\"\u001b[39m,\u001b[38;5;124m\"\u001b[39m\u001b[38;5;124mHDy\u001b[39m\u001b[38;5;124m\"\u001b[39m,\u001b[38;5;124m\"\u001b[39m\u001b[38;5;124mQuaNet\u001b[39m\u001b[38;5;124m\"\u001b[39m,\u001b[38;5;124m\"\u001b[39m\u001b[38;5;124mEMQ-BCTS\u001b[39m\u001b[38;5;124m\"\u001b[39m,\u001b[38;5;124m\"\u001b[39m\u001b[38;5;124mEMQ-NoCal\u001b[39m\u001b[38;5;124m\"\u001b[39m,\u001b[38;5;124m\"\u001b[39m\u001b[38;5;124mDeepsets (avg)\u001b[39m\u001b[38;5;124m\"\u001b[39m,\u001b[38;5;124m\"\u001b[39m\u001b[38;5;124mDeepsets (max)\u001b[39m\u001b[38;5;124m\"\u001b[39m,\u001b[38;5;124m\"\u001b[39m\u001b[38;5;124mDeepsets (median)\u001b[39m\u001b[38;5;124m\"\u001b[39m,\u001b[38;5;124m\"\u001b[39m\u001b[38;5;124mSetTransformers\u001b[39m\u001b[38;5;124m\"\u001b[39m,\u001b[38;5;124m\"\u001b[39m\u001b[38;5;124mHistNetQ\u001b[39m\u001b[38;5;124m\"\u001b[39m]\n\u001b[0;32m----> 3\u001b[0m t1a_table,_ \u001b[38;5;241m=\u001b[39m \u001b[43mshow_results_table\u001b[49m\u001b[43m(\u001b[49m\u001b[43mexperiment_names\u001b[49m\u001b[38;5;241;43m=\u001b[39;49m\u001b[43mexperiment_names\u001b[49m\u001b[43m,\u001b[49m\u001b[43m \u001b[49m\u001b[43mbase_path\u001b[49m\u001b[38;5;241;43m=\u001b[39;49m\u001b[38;5;124;43m'\u001b[39;49m\u001b[38;5;124;43m'\u001b[39;49m\u001b[43m,\u001b[49m\u001b[43m \u001b[49m\u001b[43minclude_std\u001b[49m\u001b[38;5;241;43m=\u001b[39;49m\u001b[38;5;28;43;01mTrue\u001b[39;49;00m\u001b[43m,\u001b[49m\u001b[43merror_measures\u001b[49m\u001b[38;5;241;43m=\u001b[39;49m\u001b[43m[\u001b[49m\u001b[38;5;124;43m'\u001b[39;49m\u001b[38;5;124;43mAE\u001b[39;49m\u001b[38;5;124;43m'\u001b[39;49m\u001b[43m,\u001b[49m\u001b[38;5;124;43m'\u001b[39;49m\u001b[38;5;124;43mRAE\u001b[39;49m\u001b[38;5;124;43m'\u001b[39;49m\u001b[43m]\u001b[49m\u001b[43m,\u001b[49m\u001b[43m \u001b[49m\u001b[43mrow_names\u001b[49m\u001b[38;5;241;43m=\u001b[39;49m\u001b[43mrow_names\u001b[49m\u001b[43m)\u001b[49m\n\u001b[1;32m      4\u001b[0m \u001b[38;5;28mprint\u001b[39m(t1a_table)\n\u001b[1;32m      5\u001b[0m \u001b[38;5;28;01mwith\u001b[39;00m \u001b[38;5;28mopen\u001b[39m(os\u001b[38;5;241m.\u001b[39mpath\u001b[38;5;241m.\u001b[39mjoin(export_dir,\u001b[38;5;124m'\u001b[39m\u001b[38;5;124mtables/t1_table.tex\u001b[39m\u001b[38;5;124m'\u001b[39m),\u001b[38;5;124m'\u001b[39m\u001b[38;5;124mw\u001b[39m\u001b[38;5;124m'\u001b[39m) \u001b[38;5;28;01mas\u001b[39;00m f:\n",
      "Cell \u001b[0;32mIn[2], line 17\u001b[0m, in \u001b[0;36mshow_results_table\u001b[0;34m(experiment_names, base_path, include_std, row_names, error_measures)\u001b[0m\n\u001b[1;32m     13\u001b[0m     results_error[error_measure] \u001b[38;5;241m=\u001b[39m \u001b[38;5;28mdict\u001b[39m()\n\u001b[1;32m     16\u001b[0m \u001b[38;5;28;01mfor\u001b[39;00m experiment \u001b[38;5;129;01min\u001b[39;00m experiment_names:\n\u001b[0;32m---> 17\u001b[0m     results \u001b[38;5;241m=\u001b[39m \u001b[43mpd\u001b[49m\u001b[38;5;241;43m.\u001b[39;49m\u001b[43mread_csv\u001b[49m\u001b[43m(\u001b[49m\u001b[43mos\u001b[49m\u001b[38;5;241;43m.\u001b[39;49m\u001b[43mpath\u001b[49m\u001b[38;5;241;43m.\u001b[39;49m\u001b[43mjoin\u001b[49m\u001b[43m(\u001b[49m\u001b[43mbase_path\u001b[49m\u001b[43m,\u001b[49m\u001b[43mpath\u001b[49m\u001b[43m,\u001b[49m\u001b[43mexperiment\u001b[49m\u001b[38;5;241;43m+\u001b[39;49m\u001b[38;5;124;43m'\u001b[39;49m\u001b[38;5;124;43m_errors.txt\u001b[39;49m\u001b[38;5;124;43m'\u001b[39;49m\u001b[43m)\u001b[49m\u001b[43m)\u001b[49m\n\u001b[1;32m     18\u001b[0m     \u001b[38;5;28;01mfor\u001b[39;00m error_measure \u001b[38;5;129;01min\u001b[39;00m error_measures:\n\u001b[1;32m     19\u001b[0m         results_error[error_measure][experiment] \u001b[38;5;241m=\u001b[39mresults[error_measure]\n",
      "File \u001b[0;32m~/anaconda3/envs/a2032/lib/python3.12/site-packages/pandas/io/parsers/readers.py:1026\u001b[0m, in \u001b[0;36mread_csv\u001b[0;34m(filepath_or_buffer, sep, delimiter, header, names, index_col, usecols, dtype, engine, converters, true_values, false_values, skipinitialspace, skiprows, skipfooter, nrows, na_values, keep_default_na, na_filter, verbose, skip_blank_lines, parse_dates, infer_datetime_format, keep_date_col, date_parser, date_format, dayfirst, cache_dates, iterator, chunksize, compression, thousands, decimal, lineterminator, quotechar, quoting, doublequote, escapechar, comment, encoding, encoding_errors, dialect, on_bad_lines, delim_whitespace, low_memory, memory_map, float_precision, storage_options, dtype_backend)\u001b[0m\n\u001b[1;32m   1013\u001b[0m kwds_defaults \u001b[38;5;241m=\u001b[39m _refine_defaults_read(\n\u001b[1;32m   1014\u001b[0m     dialect,\n\u001b[1;32m   1015\u001b[0m     delimiter,\n\u001b[0;32m   (...)\u001b[0m\n\u001b[1;32m   1022\u001b[0m     dtype_backend\u001b[38;5;241m=\u001b[39mdtype_backend,\n\u001b[1;32m   1023\u001b[0m )\n\u001b[1;32m   1024\u001b[0m kwds\u001b[38;5;241m.\u001b[39mupdate(kwds_defaults)\n\u001b[0;32m-> 1026\u001b[0m \u001b[38;5;28;01mreturn\u001b[39;00m \u001b[43m_read\u001b[49m\u001b[43m(\u001b[49m\u001b[43mfilepath_or_buffer\u001b[49m\u001b[43m,\u001b[49m\u001b[43m \u001b[49m\u001b[43mkwds\u001b[49m\u001b[43m)\u001b[49m\n",
      "File \u001b[0;32m~/anaconda3/envs/a2032/lib/python3.12/site-packages/pandas/io/parsers/readers.py:620\u001b[0m, in \u001b[0;36m_read\u001b[0;34m(filepath_or_buffer, kwds)\u001b[0m\n\u001b[1;32m    617\u001b[0m _validate_names(kwds\u001b[38;5;241m.\u001b[39mget(\u001b[38;5;124m\"\u001b[39m\u001b[38;5;124mnames\u001b[39m\u001b[38;5;124m\"\u001b[39m, \u001b[38;5;28;01mNone\u001b[39;00m))\n\u001b[1;32m    619\u001b[0m \u001b[38;5;66;03m# Create the parser.\u001b[39;00m\n\u001b[0;32m--> 620\u001b[0m parser \u001b[38;5;241m=\u001b[39m \u001b[43mTextFileReader\u001b[49m\u001b[43m(\u001b[49m\u001b[43mfilepath_or_buffer\u001b[49m\u001b[43m,\u001b[49m\u001b[43m \u001b[49m\u001b[38;5;241;43m*\u001b[39;49m\u001b[38;5;241;43m*\u001b[39;49m\u001b[43mkwds\u001b[49m\u001b[43m)\u001b[49m\n\u001b[1;32m    622\u001b[0m \u001b[38;5;28;01mif\u001b[39;00m chunksize \u001b[38;5;129;01mor\u001b[39;00m iterator:\n\u001b[1;32m    623\u001b[0m     \u001b[38;5;28;01mreturn\u001b[39;00m parser\n",
      "File \u001b[0;32m~/anaconda3/envs/a2032/lib/python3.12/site-packages/pandas/io/parsers/readers.py:1620\u001b[0m, in \u001b[0;36mTextFileReader.__init__\u001b[0;34m(self, f, engine, **kwds)\u001b[0m\n\u001b[1;32m   1617\u001b[0m     \u001b[38;5;28mself\u001b[39m\u001b[38;5;241m.\u001b[39moptions[\u001b[38;5;124m\"\u001b[39m\u001b[38;5;124mhas_index_names\u001b[39m\u001b[38;5;124m\"\u001b[39m] \u001b[38;5;241m=\u001b[39m kwds[\u001b[38;5;124m\"\u001b[39m\u001b[38;5;124mhas_index_names\u001b[39m\u001b[38;5;124m\"\u001b[39m]\n\u001b[1;32m   1619\u001b[0m \u001b[38;5;28mself\u001b[39m\u001b[38;5;241m.\u001b[39mhandles: IOHandles \u001b[38;5;241m|\u001b[39m \u001b[38;5;28;01mNone\u001b[39;00m \u001b[38;5;241m=\u001b[39m \u001b[38;5;28;01mNone\u001b[39;00m\n\u001b[0;32m-> 1620\u001b[0m \u001b[38;5;28mself\u001b[39m\u001b[38;5;241m.\u001b[39m_engine \u001b[38;5;241m=\u001b[39m \u001b[38;5;28;43mself\u001b[39;49m\u001b[38;5;241;43m.\u001b[39;49m\u001b[43m_make_engine\u001b[49m\u001b[43m(\u001b[49m\u001b[43mf\u001b[49m\u001b[43m,\u001b[49m\u001b[43m \u001b[49m\u001b[38;5;28;43mself\u001b[39;49m\u001b[38;5;241;43m.\u001b[39;49m\u001b[43mengine\u001b[49m\u001b[43m)\u001b[49m\n",
      "File \u001b[0;32m~/anaconda3/envs/a2032/lib/python3.12/site-packages/pandas/io/parsers/readers.py:1880\u001b[0m, in \u001b[0;36mTextFileReader._make_engine\u001b[0;34m(self, f, engine)\u001b[0m\n\u001b[1;32m   1878\u001b[0m     \u001b[38;5;28;01mif\u001b[39;00m \u001b[38;5;124m\"\u001b[39m\u001b[38;5;124mb\u001b[39m\u001b[38;5;124m\"\u001b[39m \u001b[38;5;129;01mnot\u001b[39;00m \u001b[38;5;129;01min\u001b[39;00m mode:\n\u001b[1;32m   1879\u001b[0m         mode \u001b[38;5;241m+\u001b[39m\u001b[38;5;241m=\u001b[39m \u001b[38;5;124m\"\u001b[39m\u001b[38;5;124mb\u001b[39m\u001b[38;5;124m\"\u001b[39m\n\u001b[0;32m-> 1880\u001b[0m \u001b[38;5;28mself\u001b[39m\u001b[38;5;241m.\u001b[39mhandles \u001b[38;5;241m=\u001b[39m \u001b[43mget_handle\u001b[49m\u001b[43m(\u001b[49m\n\u001b[1;32m   1881\u001b[0m \u001b[43m    \u001b[49m\u001b[43mf\u001b[49m\u001b[43m,\u001b[49m\n\u001b[1;32m   1882\u001b[0m \u001b[43m    \u001b[49m\u001b[43mmode\u001b[49m\u001b[43m,\u001b[49m\n\u001b[1;32m   1883\u001b[0m \u001b[43m    \u001b[49m\u001b[43mencoding\u001b[49m\u001b[38;5;241;43m=\u001b[39;49m\u001b[38;5;28;43mself\u001b[39;49m\u001b[38;5;241;43m.\u001b[39;49m\u001b[43moptions\u001b[49m\u001b[38;5;241;43m.\u001b[39;49m\u001b[43mget\u001b[49m\u001b[43m(\u001b[49m\u001b[38;5;124;43m\"\u001b[39;49m\u001b[38;5;124;43mencoding\u001b[39;49m\u001b[38;5;124;43m\"\u001b[39;49m\u001b[43m,\u001b[49m\u001b[43m \u001b[49m\u001b[38;5;28;43;01mNone\u001b[39;49;00m\u001b[43m)\u001b[49m\u001b[43m,\u001b[49m\n\u001b[1;32m   1884\u001b[0m \u001b[43m    \u001b[49m\u001b[43mcompression\u001b[49m\u001b[38;5;241;43m=\u001b[39;49m\u001b[38;5;28;43mself\u001b[39;49m\u001b[38;5;241;43m.\u001b[39;49m\u001b[43moptions\u001b[49m\u001b[38;5;241;43m.\u001b[39;49m\u001b[43mget\u001b[49m\u001b[43m(\u001b[49m\u001b[38;5;124;43m\"\u001b[39;49m\u001b[38;5;124;43mcompression\u001b[39;49m\u001b[38;5;124;43m\"\u001b[39;49m\u001b[43m,\u001b[49m\u001b[43m \u001b[49m\u001b[38;5;28;43;01mNone\u001b[39;49;00m\u001b[43m)\u001b[49m\u001b[43m,\u001b[49m\n\u001b[1;32m   1885\u001b[0m \u001b[43m    \u001b[49m\u001b[43mmemory_map\u001b[49m\u001b[38;5;241;43m=\u001b[39;49m\u001b[38;5;28;43mself\u001b[39;49m\u001b[38;5;241;43m.\u001b[39;49m\u001b[43moptions\u001b[49m\u001b[38;5;241;43m.\u001b[39;49m\u001b[43mget\u001b[49m\u001b[43m(\u001b[49m\u001b[38;5;124;43m\"\u001b[39;49m\u001b[38;5;124;43mmemory_map\u001b[39;49m\u001b[38;5;124;43m\"\u001b[39;49m\u001b[43m,\u001b[49m\u001b[43m \u001b[49m\u001b[38;5;28;43;01mFalse\u001b[39;49;00m\u001b[43m)\u001b[49m\u001b[43m,\u001b[49m\n\u001b[1;32m   1886\u001b[0m \u001b[43m    \u001b[49m\u001b[43mis_text\u001b[49m\u001b[38;5;241;43m=\u001b[39;49m\u001b[43mis_text\u001b[49m\u001b[43m,\u001b[49m\n\u001b[1;32m   1887\u001b[0m \u001b[43m    \u001b[49m\u001b[43merrors\u001b[49m\u001b[38;5;241;43m=\u001b[39;49m\u001b[38;5;28;43mself\u001b[39;49m\u001b[38;5;241;43m.\u001b[39;49m\u001b[43moptions\u001b[49m\u001b[38;5;241;43m.\u001b[39;49m\u001b[43mget\u001b[49m\u001b[43m(\u001b[49m\u001b[38;5;124;43m\"\u001b[39;49m\u001b[38;5;124;43mencoding_errors\u001b[39;49m\u001b[38;5;124;43m\"\u001b[39;49m\u001b[43m,\u001b[49m\u001b[43m \u001b[49m\u001b[38;5;124;43m\"\u001b[39;49m\u001b[38;5;124;43mstrict\u001b[39;49m\u001b[38;5;124;43m\"\u001b[39;49m\u001b[43m)\u001b[49m\u001b[43m,\u001b[49m\n\u001b[1;32m   1888\u001b[0m \u001b[43m    \u001b[49m\u001b[43mstorage_options\u001b[49m\u001b[38;5;241;43m=\u001b[39;49m\u001b[38;5;28;43mself\u001b[39;49m\u001b[38;5;241;43m.\u001b[39;49m\u001b[43moptions\u001b[49m\u001b[38;5;241;43m.\u001b[39;49m\u001b[43mget\u001b[49m\u001b[43m(\u001b[49m\u001b[38;5;124;43m\"\u001b[39;49m\u001b[38;5;124;43mstorage_options\u001b[39;49m\u001b[38;5;124;43m\"\u001b[39;49m\u001b[43m,\u001b[49m\u001b[43m \u001b[49m\u001b[38;5;28;43;01mNone\u001b[39;49;00m\u001b[43m)\u001b[49m\u001b[43m,\u001b[49m\n\u001b[1;32m   1889\u001b[0m \u001b[43m\u001b[49m\u001b[43m)\u001b[49m\n\u001b[1;32m   1890\u001b[0m \u001b[38;5;28;01massert\u001b[39;00m \u001b[38;5;28mself\u001b[39m\u001b[38;5;241m.\u001b[39mhandles \u001b[38;5;129;01mis\u001b[39;00m \u001b[38;5;129;01mnot\u001b[39;00m \u001b[38;5;28;01mNone\u001b[39;00m\n\u001b[1;32m   1891\u001b[0m f \u001b[38;5;241m=\u001b[39m \u001b[38;5;28mself\u001b[39m\u001b[38;5;241m.\u001b[39mhandles\u001b[38;5;241m.\u001b[39mhandle\n",
      "File \u001b[0;32m~/anaconda3/envs/a2032/lib/python3.12/site-packages/pandas/io/common.py:873\u001b[0m, in \u001b[0;36mget_handle\u001b[0;34m(path_or_buf, mode, encoding, compression, memory_map, is_text, errors, storage_options)\u001b[0m\n\u001b[1;32m    868\u001b[0m \u001b[38;5;28;01melif\u001b[39;00m \u001b[38;5;28misinstance\u001b[39m(handle, \u001b[38;5;28mstr\u001b[39m):\n\u001b[1;32m    869\u001b[0m     \u001b[38;5;66;03m# Check whether the filename is to be opened in binary mode.\u001b[39;00m\n\u001b[1;32m    870\u001b[0m     \u001b[38;5;66;03m# Binary mode does not support 'encoding' and 'newline'.\u001b[39;00m\n\u001b[1;32m    871\u001b[0m     \u001b[38;5;28;01mif\u001b[39;00m ioargs\u001b[38;5;241m.\u001b[39mencoding \u001b[38;5;129;01mand\u001b[39;00m \u001b[38;5;124m\"\u001b[39m\u001b[38;5;124mb\u001b[39m\u001b[38;5;124m\"\u001b[39m \u001b[38;5;129;01mnot\u001b[39;00m \u001b[38;5;129;01min\u001b[39;00m ioargs\u001b[38;5;241m.\u001b[39mmode:\n\u001b[1;32m    872\u001b[0m         \u001b[38;5;66;03m# Encoding\u001b[39;00m\n\u001b[0;32m--> 873\u001b[0m         handle \u001b[38;5;241m=\u001b[39m \u001b[38;5;28;43mopen\u001b[39;49m\u001b[43m(\u001b[49m\n\u001b[1;32m    874\u001b[0m \u001b[43m            \u001b[49m\u001b[43mhandle\u001b[49m\u001b[43m,\u001b[49m\n\u001b[1;32m    875\u001b[0m \u001b[43m            \u001b[49m\u001b[43mioargs\u001b[49m\u001b[38;5;241;43m.\u001b[39;49m\u001b[43mmode\u001b[49m\u001b[43m,\u001b[49m\n\u001b[1;32m    876\u001b[0m \u001b[43m            \u001b[49m\u001b[43mencoding\u001b[49m\u001b[38;5;241;43m=\u001b[39;49m\u001b[43mioargs\u001b[49m\u001b[38;5;241;43m.\u001b[39;49m\u001b[43mencoding\u001b[49m\u001b[43m,\u001b[49m\n\u001b[1;32m    877\u001b[0m \u001b[43m            \u001b[49m\u001b[43merrors\u001b[49m\u001b[38;5;241;43m=\u001b[39;49m\u001b[43merrors\u001b[49m\u001b[43m,\u001b[49m\n\u001b[1;32m    878\u001b[0m \u001b[43m            \u001b[49m\u001b[43mnewline\u001b[49m\u001b[38;5;241;43m=\u001b[39;49m\u001b[38;5;124;43m\"\u001b[39;49m\u001b[38;5;124;43m\"\u001b[39;49m\u001b[43m,\u001b[49m\n\u001b[1;32m    879\u001b[0m \u001b[43m        \u001b[49m\u001b[43m)\u001b[49m\n\u001b[1;32m    880\u001b[0m     \u001b[38;5;28;01melse\u001b[39;00m:\n\u001b[1;32m    881\u001b[0m         \u001b[38;5;66;03m# Binary mode\u001b[39;00m\n\u001b[1;32m    882\u001b[0m         handle \u001b[38;5;241m=\u001b[39m \u001b[38;5;28mopen\u001b[39m(handle, ioargs\u001b[38;5;241m.\u001b[39mmode)\n",
      "\u001b[0;31mFileNotFoundError\u001b[0m: [Errno 2] No such file or directory: 'results/CC_T1_errors.txt'"
     ]
    }
   ],
   "source": [
    "experiment_names = [\"CC_T1\",\"PCC_T1\",\"ACC_T1\",\"PACC_T1\",\"HDy_T1\",\"QuaNet_T1\",\"EMQ_BCTS_T1\",\"EMQ_NoCal_T1\",\"deepsets_avg_T1\",\"deepsets_max_T1\",\"deepsets_median_T1\",\"settransformers_T1\",\"histnet_hard_T1\"]\n",
    "row_names = [\"CC\",\"PCC\",\"ACC\",\"PACC\",\"HDy\",\"QuaNet\",\"EMQ-BCTS\",\"EMQ-NoCal\",\"Deepsets (avg)\",\"Deepsets (max)\",\"Deepsets (median)\",\"SetTransformers\",\"HistNetQ\"]\n",
    "t1_table,_ = show_results_table(experiment_names=experiment_names, base_path='', include_std=True,error_measures=['AE','RAE'], row_names=row_names)\n",
    "print(t1_table)\n",
    "with open(os.path.join(export_dir,'tables/t1_table.tex'),'w') as f:\n",
    "    f.write(t1_table)"
   ]
  },
  {
   "cell_type": "markdown",
   "metadata": {},
   "source": [
    "## Results T2"
   ]
  },
  {
   "cell_type": "code",
   "execution_count": 10,
   "metadata": {},
   "outputs": [
    {
     "name": "stdout",
     "output_type": "stream",
     "text": [
      "\\begin{tabular}{r|rr}\n",
      "\\toprule\n",
      " & AE & RAE \\\\\n",
      "\\midrule\n",
      "Deepsets (avg) & 0.04082 $\\pm$ 0.00972 & 1.69817 $\\pm$ 2.26256 \\\\\n",
      "Deepsets (max) & 0.02188 $\\pm$ 0.00366 & 2.42173 $\\pm$ 1.87929 \\\\\n",
      "Deepsets (median) & 0.02089 $\\pm$ 0.00591 & 1.23527 $\\pm$ 0.89104 \\\\\n",
      "SetTransformers & 0.03836 $\\pm$ 0.01308 & 3.62753 $\\pm$ 4.21755 \\\\\n",
      "HistNetQ & \\textbf{0.01808 $\\pm$ 0.00553} & \\textbf{0.95084 $\\pm$ 0.57574} \\\\\n",
      "\\bottomrule\n",
      "\\end{tabular}\n",
      "\n"
     ]
    }
   ],
   "source": [
    "#experiment_names = [\"deepsets_avg_T2\",\"deepsets_max_T2\",\"deepsets_median_T2\",\"settransformers_T2\",\"histnet_hard_T2_64bins\",\"CC_T2\",\"PCC_T2\",\"ACC_T2\",\"PACC_T2\",\"EMQ_BCTS_T2\",\"EMQ_NoCal_T2\"]\n",
    "#row_names = [\"Deepsets (avg)\",\"Deepsets (max)\",\"Deepsets (median)\",\"SetTransformers\",\"HistNetQ\",\"CC\",\"PCC\",\"ACC\",\"PACC\",\"EMQ-BCTS\",\"EMQ-NoCal\"]\n",
    "experiment_names = [\"deepsets_avg_T2\",\"deepsets_max_T2\",\"deepsets_median_T2\",\"settransformers_T2\",\"histnet_hard_T2_64bins\"]\n",
    "row_names = [\"Deepsets (avg)\",\"Deepsets (max)\",\"Deepsets (median)\",\"SetTransformers\",\"HistNetQ\"]\n",
    "t2_table,_=show_results_table(experiment_names,include_std=True,row_names=row_names)\n",
    "print(t2_table)\n",
    "with open(os.path.join(export_dir,'tables/t2_table.tex'),'w') as f:\n",
    "    f.write(t2_table)"
   ]
  },
  {
   "cell_type": "markdown",
   "metadata": {},
   "source": [
    "## Análisis por número de bins"
   ]
  },
  {
   "cell_type": "code",
   "execution_count": 12,
   "metadata": {},
   "outputs": [
    {
     "name": "stdout",
     "output_type": "stream",
     "text": [
      "\\begin{tabular}{r|rr}\n",
      "\\toprule\n",
      " & AE & RAE \\\\\n",
      "\\midrule\n",
      "HistNet (8 bins) & 0.02966 $\\pm$ 0.00820 & 1.28782 $\\pm$ 0.99960 \\\\\n",
      "HistNet (16 bins) & 0.02120 $\\pm$ 0.00710 & 1.05719 $\\pm$ 0.73762 \\\\\n",
      "HistNet (32 bins) & 0.01212 $\\pm$ 0.00482 & 0.78514 $\\pm$ 0.51994 \\\\\n",
      "HistNet (32 bins)\\_64bins & \\textbf{0.01070 $\\pm$ 0.00367} & \\textbf{0.75739 $\\pm$ 0.48891} \\\\\n",
      "\\bottomrule\n",
      "\\end{tabular}\n",
      "\n"
     ]
    }
   ],
   "source": [
    "import numpy as np\n",
    "import seaborn as sns\n",
    "sns.set_theme()\n",
    "experiment_names = [\"histnet_hard_T1B_8bins\",\"histnet_hard_T1B_16bins\",\"histnet_hard_T1B\",\"histnet_hard_T1B_64bins\"]\n",
    "row_names = [\"HistNet (8 bins)\",\"HistNet (16 bins)\",\"HistNet (32 bins)\",\"HistNet (64 bins)\"]\n",
    "bins_comp, results_error=show_results_table(experiment_names, row_names = row_names, include_std=True)\n",
    "print(bins_comp)\n",
    "with open(os.path.join(export_dir,'tables/bins_comp.tex'),'w') as f:\n",
    "    f.write(bins_comp)"
   ]
  },
  {
   "attachments": {},
   "cell_type": "markdown",
   "metadata": {},
   "source": [
    "## Resultados FASHIONMNIST"
   ]
  },
  {
   "cell_type": "code",
   "execution_count": 22,
   "metadata": {},
   "outputs": [
    {
     "name": "stdout",
     "output_type": "stream",
     "text": [
      "\\begin{tabular}{r|rr}\n",
      "\\toprule\n",
      " & AE & RAE \\\\\n",
      "\\midrule\n",
      "settransformers\\_ae\\_fashionmnist & 0.01043 $\\pm$ 0.00328 & 0.37164 $\\pm$ 0.44702 \\\\\n",
      "settransformers\\_rae\\_fashionmnist & 0.12947 $\\pm$ 0.02279 & 2.20175 $\\pm$ 1.19007 \\\\\n",
      "deepsets\\_avg\\_ae\\_fashionmnist & 0.00829 $\\pm$ 0.00254 & 0.29700 $\\pm$ 0.34086 \\\\\n",
      "deepsets\\_avg\\_rae\\_fashionmnist & 0.02494 $\\pm$ 0.01429 & 0.32826 $\\pm$ 0.23251 \\\\\n",
      "deepsets\\_median\\_ae\\_fashionmnist & 0.00942 $\\pm$ 0.00288 & 0.35496 $\\pm$ 0.42178 \\\\\n",
      "deepsets\\_median\\_rae\\_fashionmnist & 0.06554 $\\pm$ 0.01760 & 0.71946 $\\pm$ 0.58579 \\\\\n",
      "deepsets\\_max\\_ae\\_fashionmnist & 0.02185 $\\pm$ 0.00699 & 0.41466 $\\pm$ 0.34917 \\\\\n",
      "deepsets\\_max\\_rae\\_fashionmnist & 0.02502 $\\pm$ 0.01115 & 0.35195 $\\pm$ 0.32316 \\\\\n",
      "histnet\\_hard\\_ae\\_fashionmnist & \\textbf{0.00602 $\\pm$ 0.00206} & 0.23270 $\\pm$ 0.28885 \\\\\n",
      "histnet\\_hard\\_rae\\_fashionmnist & 0.00685 $\\pm$ 0.00239 & \\dag{0.15923 $\\pm$ 0.17085} \\\\\n",
      "CC\\_fashionmnist & 0.01634 $\\pm$ 0.00738 & 0.58279 $\\pm$ 0.72314 \\\\\n",
      "PCC\\_fashionmnist & 0.02040 $\\pm$ 0.00796 & 0.78168 $\\pm$ 0.97434 \\\\\n",
      "AC\\_fashionmnist & 0.00824 $\\pm$ 0.00310 & 0.22256 $\\pm$ 0.23753 \\\\\n",
      "PAC\\_fashionmnist & 0.00673 $\\pm$ 0.00238 & 0.18310 $\\pm$ 0.19252 \\\\\n",
      "HDy\\_fashionmnist & 0.00721 $\\pm$ 0.00248 & 0.16697 $\\pm$ 0.15663 \\\\\n",
      "EM\\_fashionmnist & 0.01324 $\\pm$ 0.00472 & 0.25493 $\\pm$ 0.22246 \\\\\n",
      "EM-BCTS\\_fashionmnist & 0.00652 $\\pm$ 0.00246 & \\textbf{0.15097 $\\pm$ 0.15191} \\\\\n",
      "\\bottomrule\n",
      "\\end{tabular}\n",
      "\n"
     ]
    }
   ],
   "source": [
    "experiment_names = [\"settransformers_ae_fashionmnist\",\"settransformers_rae_fashionmnist\",\n",
    "\"deepsets_avg_ae_fashionmnist\",\"deepsets_avg_ae_fashionmnist\",\"deepsets_avg_rae_fashionmnist\",\n",
    "\"deepsets_median_ae_fashionmnist\",\"deepsets_median_rae_fashionmnist\",\"deepsets_max_ae_fashionmnist\",\n",
    "\"deepsets_max_rae_fashionmnist\",\n",
    "\"histnet_hard_ae_fashionmnist\",\"histnet_hard_rae_fashionmnist\",\n",
    "\"CC_fashionmnist\",\"PCC_fashionmnist\",\"AC_fashionmnist\",\"PAC_fashionmnist\",\"HDy_fashionmnist\",\n",
    "\"EM_fashionmnist\",\"EM-BCTS_fashionmnist\"]\n",
    "#,\n",
    "\n",
    "fashionmnist_results,_=show_results_table(experiment_names,base_path=\"fashionmnist\",include_std=True,error_measures=['AE','RAE'])\n",
    "print(fashionmnist_results)\n",
    "with open(os.path.join(export_dir,'tables/fashionmnist.tex'),'w') as f:\n",
    "    f.write(fashionmnist_results)"
   ]
  },
  {
   "cell_type": "markdown",
   "metadata": {},
   "source": [
    "## Comparación con baselines la competición LEQUA"
   ]
  },
  {
   "cell_type": "code",
   "execution_count": null,
   "metadata": {},
   "outputs": [],
   "source": [
    "from dlquantification.utils.lossfunc import MRAE\n",
    "import torch\n",
    "\n",
    "def compute_errors(baselines,baseline_path,test_prevalences,dataset,loss_mrae):\n",
    "    test_prevalences = pd.read_csv(test_prevalences)\n",
    "    for baseline in baselines:\n",
    "        export_path = os.path.join(\"results/\", baseline + \"_\"+dataset+\"_errors.txt\")\n",
    "        if not os.path.exists(export_path):\n",
    "            errors = pd.DataFrame(columns=('AE','RAE'),index=range(5000))\n",
    "            results = pd.read_csv(os.path.join(baseline_path,baseline)+'.csv')\n",
    "            for i in range(len(results)):\n",
    "                errors.iloc[i]['RAE']=loss_mrae(torch.FloatTensor(test_prevalences.iloc[i,1:].to_numpy()), torch.FloatTensor(results.iloc[i,1:].to_numpy())).numpy()\n",
    "                errors.iloc[i]['AE']=torch.nn.functional.l1_loss(torch.FloatTensor(test_prevalences.iloc[i,1:].to_numpy()), torch.FloatTensor(results.iloc[i,1:].to_numpy())).numpy()\n",
    "            errors.to_csv(export_path, index_label=\"id\")\n",
    "\n",
    "\n",
    "baselines=['CC','ACC','HDy','PACC','PCC','QuaNet','SLD']\n",
    "#For this experiments we need to compute the errors as we only have the predictions\n",
    "\n",
    "loss_mrae = MRAE(eps=1.0 / (2 * 250), n_classes=2).MRAE\n",
    "baseline_path_T1A = os.path.join(path,'codalab/T1A')\n",
    "test_prevalences = '/media/nas/pgonzalez/lequa/T1A/public/test_prevalences.txt'\n",
    "compute_errors(baselines,baseline_path_T1A,test_prevalences,'T1A',loss_mrae)\n",
    "baselines=['CC','ACC','PACC','PCC','SLD']\n",
    "loss_mrae = MRAE(eps=1.0 / (2 * 1000), n_classes=28).MRAE\n",
    "baseline_path_T1B = os.path.join(path,'codalab/T1B')\n",
    "test_prevalences = '/media/nas/pgonzalez/lequa/T1B/public/test_prevalences.txt'\n",
    "compute_errors(baselines,baseline_path_T1B,test_prevalences,'T1B',loss_mrae)"
   ]
  }
 ],
 "metadata": {
  "kernelspec": {
   "display_name": "histnet",
   "language": "python",
   "name": "python3"
  },
  "language_info": {
   "codemirror_mode": {
    "name": "ipython",
    "version": 3
   },
   "file_extension": ".py",
   "mimetype": "text/x-python",
   "name": "python",
   "nbconvert_exporter": "python",
   "pygments_lexer": "ipython3",
   "version": "3.12.4"
  },
  "vscode": {
   "interpreter": {
    "hash": "4fba9110b1a4ec95baa236356b4366c963be065d6fde289654bed570a6fc51de"
   }
  }
 },
 "nbformat": 4,
 "nbformat_minor": 2
}
