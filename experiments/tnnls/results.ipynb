{
 "cells": [
  {
   "cell_type": "code",
   "execution_count": null,
   "metadata": {},
   "outputs": [],
   "source": [
    "import matplotlib.pyplot as plt\n",
    "import io\n",
    "from PIL import Image, ImageChops\n",
    "\n",
    "white = (255, 255, 255, 255)\n",
    "\n",
    "def latex_to_img(tex):\n",
    "    buf = io.BytesIO()\n",
    "    plt.rc('text', usetex=True)\n",
    "    plt.rc('font', family='serif')\n",
    "    plt.axis('off')\n",
    "    plt.text(0.05, 0.5, f'${tex}$', size=40)\n",
    "    plt.savefig(buf, format='png')\n",
    "    plt.close()\n",
    "\n",
    "    im = Image.open(buf)\n",
    "    bg = Image.new(im.mode, im.size, white)\n",
    "    diff = ImageChops.difference(im, bg)\n",
    "    diff = ImageChops.add(diff, diff, 2.0, -100)\n",
    "    bbox = diff.getbbox()\n",
    "    return im.crop(bbox)"
   ]
  },
  {
   "cell_type": "code",
   "execution_count": null,
   "metadata": {},
   "outputs": [],
   "source": [
    "from scipy.stats import wilcoxon\n",
    "import pandas as pd\n",
    "\n",
    "pd.set_option('display.max_rows', 500)\n",
    "pd.set_option('display.max_columns', 500)\n",
    "pd.set_option('display.width', 1000)\n",
    "pd.options.display.float_format = '{:.5f}'.format\n",
    "\n",
    "def wilcoxon_test(results_best,results_compare):\n",
    "    pvalue = wilcoxon(x=results_best,y=results_compare).pvalue\n",
    "    if pvalue<=0.001:\n",
    "        return {}\n",
    "    elif pvalue>0.001 and pvalue<0.05:\n",
    "        return {'dag':'--rwrap'}\n",
    "    else:\n",
    "        return {'ddag':'--rwrap'}"
   ]
  },
  {
   "cell_type": "code",
   "execution_count": null,
   "metadata": {},
   "outputs": [],
   "source": [
    "import pandas as pd\n",
    "import os\n",
    "from functools import partial\n",
    "\n",
    "export_dir = '/home/pgonzalez/Dropbox/tnnlshistnet'\n",
    "\n",
    "path = \"results\"\n",
    "\n",
    "def show_results_table(experiment_names,base_path='', include_std=False, row_names=None,error_measures=['AE','RAE']):\n",
    "    table = pd.DataFrame(columns=error_measures,dtype='float')\n",
    "    results_error = {}\n",
    "    for error_measure in error_measures:\n",
    "        results_error[error_measure] = dict()\n",
    "\n",
    "\n",
    "    for experiment in experiment_names:\n",
    "        results = pd.read_csv(os.path.join(base_path,path,experiment+'_errors.txt'))\n",
    "        for error_measure in error_measures:\n",
    "            results_error[error_measure][experiment] =results[error_measure]\n",
    "            table.loc[experiment,error_measure] = results[error_measure].mean()\n",
    "\n",
    "    #table = table.style.highlight_min(color = 'yellow', axis = 0)\n",
    "\n",
    "    #get best method for ae and best method for rae\n",
    "    best_method = {}\n",
    "    for error_measure in error_measures:\n",
    "        best_method[error_measure] = table.index[table[error_measure].argmin()]\n",
    "\n",
    "    table_style = table.style\n",
    "\n",
    "    #make wixcolom testing MAE\n",
    "    for experiment in experiment_names:\n",
    "        for error_measure in error_measures:\n",
    "            if experiment!=best_method[error_measure]:\n",
    "                table_style.set_properties(subset=(experiment,error_measure),**wilcoxon_test(results_error[error_measure][experiment],results_error[error_measure][best_method[error_measure]]))\n",
    "        \n",
    "    for error_measure in error_measures:    \n",
    "        table_style = table_style.highlight_min(axis=0,props='textbf:--rwrap;',subset=error_measure)\n",
    "    #table = table.style.highlight_min(color = 'yellow', axis = 0)\n",
    "\n",
    "    def add_deviation(x,std):\n",
    "        return \"{:.5f}\".format(x)+' $\\pm$ ' +\"{:.5f}\".format(std)\n",
    "\n",
    "    use_f = lambda x: partial(add_deviation, std=x)\n",
    "    formatters = [add_deviation]\n",
    "\n",
    "    if include_std:\n",
    "        for experiment_name in experiment_names:\n",
    "            for error_measure in error_measures:\n",
    "                std_value = results_error[error_measure][experiment_name].std()\n",
    "                table_style = table_style.format(formatter=use_f(std_value),subset=(experiment_name,error_measure))\n",
    "            \n",
    "\n",
    "    latex_code = table_style.to_latex(hrules=True,column_format=\"r|\"+\"r\"*len(table.columns))\n",
    "    if row_names is not None:\n",
    "        for experiment_name,row_name in zip(experiment_names,row_names):\n",
    "            latex_code = latex_code.replace(experiment_name,row_name)\n",
    "\n",
    "    return latex_code.replace(\"_\",\"\\\\_\"), results_error"
   ]
  },
  {
   "attachments": {},
   "cell_type": "markdown",
   "metadata": {},
   "source": [
    "## Número de parámetros de cada red"
   ]
  },
  {
   "cell_type": "code",
   "execution_count": null,
   "metadata": {},
   "outputs": [],
   "source": [
    "import torch\n",
    "def get_num_parameters(state_dict):\n",
    "    return sum(p.numel() for p in state_dict.values())\n",
    "\n",
    "#experiment_names = [\"deepsets_avg_T1A\",\"deepsets_max_T1A\",\"deepsets_median_T1A\",\"settransformers_T1A\",\"histnet_sigmoid_T1A\",\"histnet_hard_T1A\",\"histnet_soft_T1A\",\"histnet_softrbf_T1A\",\"deepsets_avg_T1B\",\"deepsets_max_T1B\",\"deepsets_median_T1B\",\"settransformers_T1B\",\"histnet_sigmoid_T1B\",\"histnet_hard_T1B\",\"histnet_soft_T1B\",\"histnet_softrbf_T1B\"]\n",
    "experiment_names = [\"deepsets_avg_T1A\",\"deepsets_max_T1A\",\"deepsets_median_T1A\",\"settransformers_T1A\",\"histnet_sigmoid_T1A\",\"histnet_hard_T1A\",\"histnet_soft_T1A\",\"histnet_softrbf_T1A\"]\n",
    "for experiment in experiment_names:\n",
    "    #load the model\n",
    "    print(experiment+\":\"+str(get_num_parameters(torch.load(os.path.join('savedmodels',experiment+'.pkl')))))\n"
   ]
  },
  {
   "attachments": {},
   "cell_type": "markdown",
   "metadata": {},
   "source": [
    "## Results T1A"
   ]
  },
  {
   "cell_type": "code",
   "execution_count": null,
   "metadata": {},
   "outputs": [],
   "source": [
    "experiment_names = [\"deepsets_avg_T1A\",\"deepsets_max_T1A\",\"deepsets_median_T1A\",\"settransformers_T1A\",\"histnet_hard_T1A\"]\n",
    "row_names = [\"Deepsets (avg)\",\"Deepsets (max)\",\"Deepsets (median)\",\"SetTransformers\",\"HistNetQ\"]\n",
    "t1a_table,_ = show_results_table(experiment_names=experiment_names, base_path='', include_std=True,error_measures=['AE','RAE'], row_names=row_names)\n",
    "print(t1a_table)\n",
    "with open(os.path.join(export_dir,'tables/t1a_table.tex'),'w') as f:\n",
    "    f.write(t1a_table)\n"
   ]
  },
  {
   "cell_type": "markdown",
   "metadata": {},
   "source": [
    "## Results T1A (Ablation study)\n",
    "Results without sample mixer"
   ]
  },
  {
   "cell_type": "code",
   "execution_count": null,
   "metadata": {},
   "outputs": [],
   "source": [
    "experiment_names = [\"deepsets_avg_T1A_ablation\",\"deepsets_max_T1A_ablation\",\"deepsets_median_T1A_ablation\",\"settransformers_T1A_ablation\",\"histnet_hard_T1A_ablation\"]\n",
    "row_names = [\"Deepsets (avg)\",\"Deepsets (max)\",\"Deepsets (median)\",\"SetTransformers\",\"HistNetQ\"]\n",
    "t1a_table,_ = show_results_table(experiment_names=experiment_names, base_path='', include_std=True,error_measures=['AE','RAE'], row_names=row_names)\n",
    "print(t1a_table)\n",
    "with open(os.path.join(export_dir,'tables/t1a_ablation_table.tex'),'w') as f:\n",
    "    f.write(t1a_table)"
   ]
  },
  {
   "attachments": {},
   "cell_type": "markdown",
   "metadata": {},
   "source": [
    "## Results T1B"
   ]
  },
  {
   "cell_type": "code",
   "execution_count": null,
   "metadata": {},
   "outputs": [],
   "source": [
    "experiment_names = [\"deepsets_avg_T1B\",\"deepsets_max_T1B\",\"deepsets_median_T1B\",\"settransformers_T1B\",\"histnet_hard_T1B_64bits\"]\n",
    "row_names = [\"Deepsets (avg)\",\"Deepsets (max)\",\"Deepsets (median)\",\"SetTransformers\",\"HistNetQ (Hard 32 bins)\",\"HistNetQ (Hard 64 bins)\"]\n",
    "t1b_table,_=show_results_table(experiment_names,include_std=True,row_names=row_names)\n",
    "print(t1b_table)\n",
    "with open(os.path.join(export_dir,'tables/t1b_table.tex'),'w') as f:\n",
    "    f.write(t1b_table)"
   ]
  },
  {
   "cell_type": "markdown",
   "metadata": {},
   "source": [
    "## Results T1B (Ablation study)\n"
   ]
  },
  {
   "cell_type": "code",
   "execution_count": null,
   "metadata": {},
   "outputs": [],
   "source": [
    "experiment_names = [\"deepsets_avg_T1B_ablation\",\"deepsets_max_T1B_ablation\",\"deepsets_median_T1B_ablation\",\"settransformers_T1B_ablation\",\"histnet_hard_T1B_64bins_ablation\"]\n",
    "row_names = [\"Deepsets (avg)\",\"Deepsets (max)\",\"Deepsets (median)\",\"SetTransformers\",\"HistNetQ (Hard 64 bins)\"]\n",
    "t1b_table,_=show_results_table(experiment_names,include_std=True,row_names=row_names)\n",
    "print(t1b_table)\n",
    "with open(os.path.join(export_dir,'tables/t1b_table_ablation.tex'),'w') as f:\n",
    "    f.write(t1b_table)"
   ]
  },
  {
   "attachments": {},
   "cell_type": "markdown",
   "metadata": {},
   "source": [
    "## Análisis por número de bins"
   ]
  },
  {
   "cell_type": "code",
   "execution_count": null,
   "metadata": {},
   "outputs": [],
   "source": [
    "import numpy as np\n",
    "import seaborn as sns\n",
    "sns.set_theme()\n",
    "experiment_names = [\"histnet_hard_T1B_8bins\",\"histnet_hard_T1B_16bins\",\"histnet_hard_T1B\",\"histnet_hard_T1B_64bins\"]\n",
    "row_names = [\"HistNet (8 bins)\",\"HistNet (16 bins)\",\"HistNet (32 bins)\",\"HistNet (64 bins)\"]\n",
    "bins_comp, results_error=show_results_table(experiment_names, row_names = row_names, include_std=True)\n",
    "print(bins_comp)\n",
    "with open(os.path.join(export_dir,'tables/bins_comp.tex'),'w') as f:\n",
    "    f.write(bins_comp)\n",
    "\n",
    "chart_data = pd.DataFrame(columns=(\"n_bins\",\"rae\"),dtype = ('int','float'))\n",
    "chart_data = chart_data.append({\"n_bins\":8,\"rae\":results_error['RAE']['histnet_hard_T1B_8bins'].mean()},ignore_index=True)\n",
    "chart_data = chart_data.append({\"n_bins\":16,\"rae\":results_error['RAE']['histnet_hard_T1B_16bins'].mean()},ignore_index=True)\n",
    "chart_data = chart_data.append({\"n_bins\":32,\"rae\":results_error['RAE']['histnet_hard_T1B'].mean()},ignore_index=True)\n",
    "chart_data = chart_data.append({\"n_bins\":64,\"rae\":results_error['RAE']['histnet_hard_T1B_64bins'].mean()},ignore_index=True)\n",
    "chart_data.n_bins = chart_data.n_bins.astype(int)\n",
    "\n",
    "plt.figure(figsize=(6,3))\n",
    "sns.lineplot(data=chart_data,x='n_bins',y='rae',marker='^',markersize=10)\n",
    "plt.xlabel(\"Number of bins\")\n",
    "plt.ylabel(\"RAE\")\n",
    "plt.title(\"Performance by number of bins\")\n",
    "plt.savefig(os.path.join(export_dir,'figures/bybins.pdf'), dpi=300, bbox_inches='tight')\n"
   ]
  },
  {
   "attachments": {},
   "cell_type": "markdown",
   "metadata": {},
   "source": [
    "## ISAB como feature extraction"
   ]
  },
  {
   "cell_type": "code",
   "execution_count": null,
   "metadata": {},
   "outputs": [],
   "source": [
    "experiment_names = [\"isab_deepsets_max_T1B\",\"isab_deepsets_avg_T1B\",\"isab_deepsets_median_T1B\",\"isab_histnet_sigmoid_T1B\",\"isab_histnet_soft_T1B\",\"isab_histnet_softrbf_T1B\",\"isab_histnet_hard_T1B\"]\n",
    "isab_comp=show_results_table(experiment_names)\n",
    "print(isab_comp)\n",
    "with open(os.path.join(export_dir,'tables/isab_as_fe.tex'),'w') as f:\n",
    "    f.write(isab_comp)"
   ]
  },
  {
   "attachments": {},
   "cell_type": "markdown",
   "metadata": {},
   "source": [
    "## No fe extraction"
   ]
  },
  {
   "cell_type": "code",
   "execution_count": null,
   "metadata": {},
   "outputs": [],
   "source": [
    "experiment_names = [\"norff_settransformers_T1B\",\"norff_deepsets_max_T1B\",\"norff_deepsets_avg_T1B\",\"norff_deepsets_median_T1B\",\"norff_histnet_sigmoid_T1B\",\"norff_histnet_soft_T1B\",\"norff_histnet_softrbf_T1B\",\"norff_histnet_hard_T1B\"]\n",
    "nofe_comp=show_results_table(experiment_names)\n",
    "print(nofe_comp)\n",
    "with open(os.path.join(export_dir,'tables/nofe.tex'),'w') as f:\n",
    "    f.write(nofe_comp)"
   ]
  },
  {
   "attachments": {},
   "cell_type": "markdown",
   "metadata": {},
   "source": [
    "## Resultados en el dataset MNIST\n",
    "Básicamente este experimento consiste en un APP sobre el conjunto de test con 5000 muestras de prueba."
   ]
  },
  {
   "cell_type": "code",
   "execution_count": null,
   "metadata": {},
   "outputs": [],
   "source": [
    "experiment_names = [\"settransformers_mnist\",\"deepsets_max_mnist\",\"deepsets_avg_mnist\",\"deepsets_median_mnist\",\"histnet_softrbf_mnist\",\"histnet_hard_mnist\",\"CC_mnist\",\"AC_mnist\",\"PAC_mnist\",\"HDy_mnist\",\"EM_mnist\"]\n",
    "mnist_results=show_results_table(experiment_names,base_path='cifar_mnist')\n",
    "print(mnist_results)\n",
    "with open(os.path.join(export_dir,'tables/mnist.tex'),'w') as f:\n",
    "    f.write(mnist_results)"
   ]
  },
  {
   "attachments": {},
   "cell_type": "markdown",
   "metadata": {},
   "source": [
    "## Resultados CIFAR 10"
   ]
  },
  {
   "cell_type": "code",
   "execution_count": null,
   "metadata": {},
   "outputs": [],
   "source": [
    "experiment_names = [\"settransformers_ae_pretrained_cifar10\",\"deepsets_avg_ae_pretrained_cifar10\",\"histnet_hard_ae_pretrained_cifar10\",\"CC_cifar10\",\"AC_cifar10\",\"PAC_cifar10\",\"HDy_cifar10\",\"EM_cifar10\",\"EM-NBVS_cifar10\",\"EM-BCTS_cifar10\",\"EM-VS_cifar10\"]\n",
    "#,\n",
    "cifar10_results=show_results_table(experiment_names,base_path=\"cifar_mnist\",add_mse=True)\n",
    "print(cifar10_results)\n",
    "with open(os.path.join(export_dir,'tables/cifar10.tex'),'w') as f:\n",
    "    f.write(cifar10_results)"
   ]
  },
  {
   "attachments": {},
   "cell_type": "markdown",
   "metadata": {},
   "source": [
    "## Resultados FASHIONMNIST"
   ]
  },
  {
   "cell_type": "code",
   "execution_count": null,
   "metadata": {},
   "outputs": [],
   "source": [
    "experiment_names = [\"settransformers_ae_fashionmnist\",\"settransformers_rae_fashionmnist\",\"settransformers_mse_fashionmnist\",\n",
    "\"deepsets_avg_ae_fashionmnist\",\"deepsets_avg_ae_fashionmnist\",\"deepsets_avg_rae_fashionmnist\",\"deepsets_avg_mse_fashionmnist\",\n",
    "\"deepsets_median_ae_fashionmnist\",\"deepsets_median_rae_fashionmnist\",\"deepsets_median_mse_fashionmnist\",\"deepsets_max_ae_fashionmnist\",\n",
    "\"deepsets_max_rae_fashionmnist\",\"deepsets_max_mse_fashionmnist\",\n",
    "\"histnet_hard_ae_fashionmnist\",\"histnet_hard_rae_fashionmnist\",\"histnet_hard_mse_fashionmnist\",\n",
    "#\"histnet_hard_batched_ae_fashionmnist\",\"histnet_hard_batched_rae_fashionmnist\",\"histnet_hard_batched_mse_fashionmnist\",\n",
    "\"CC_fashionmnist\",\"PCC_fashionmnist\",\"AC_fashionmnist\",\"PAC_fashionmnist\",\"HDy_fashionmnist\",\n",
    "\"EM_fashionmnist\",\"EM-NBVS_fashionmnist\",\"EM-BCTS_fashionmnist\",\"EM-VS_fashionmnist\"]\n",
    "#,\n",
    "\n",
    "fashionmnist_results,_=show_results_table(experiment_names,base_path=\"cifar_mnist\",include_std=True,error_measures=['AE','RAE','MSE'])\n",
    "print(fashionmnist_results)\n",
    "with open(os.path.join(export_dir,'tables/fashionmnist.tex'),'w') as f:\n",
    "    f.write(fashionmnist_results)"
   ]
  },
  {
   "attachments": {},
   "cell_type": "markdown",
   "metadata": {},
   "source": [
    "## Fashion-mnist resumida\n",
    "### AE\n"
   ]
  },
  {
   "cell_type": "code",
   "execution_count": null,
   "metadata": {},
   "outputs": [],
   "source": [
    "experiment_names = [\"settransformers_ae_fashionmnist\",\"deepsets_avg_ae_fashionmnist\",\"deepsets_median_ae_fashionmnist\",\"deepsets_max_ae_fashionmnist\",\"histnet_hard_ae_fashionmnist\",\n",
    "\"CC_fashionmnist\",\"PCC_fashionmnist\",\"AC_fashionmnist\",\"PAC_fashionmnist\",\"HDy_fashionmnist\",\n",
    "\"EM_fashionmnist\",\"EM-NBVS_fashionmnist\",\"EM-BCTS_fashionmnist\",\"EM-VS_fashionmnist\"]\n",
    "row_names  = [\"SetTransformers\",\"Deepsets (avg)\",\"Deepsets (median)\",\"Deepsets (max)\",\"HistNet\",\n",
    "\"CC\",\"PCC\",\"ACC\",\"PACC\",\"HDy\",\"EM\",\"EM-NBVS\",\"EM-BCTS\",\"EM-VS\"]\n",
    "#,\n",
    "fashionmnist_results,_=show_results_table(experiment_names,row_names = row_names, base_path=\"cifar_mnist\",error_measures=['AE'])\n",
    "print(fashionmnist_results)\n",
    "\n",
    "experiment_names = [\"settransformers_rae_fashionmnist\",\"deepsets_avg_rae_fashionmnist\",\"deepsets_median_rae_fashionmnist\",\"deepsets_max_rae_fashionmnist\",\"histnet_hard_rae_fashionmnist\",\n",
    "\"CC_fashionmnist\",\"PCC_fashionmnist\",\"AC_fashionmnist\",\"PAC_fashionmnist\",\"HDy_fashionmnist\",\n",
    "\"EM_fashionmnist\",\"EM-NBVS_fashionmnist\",\"EM-BCTS_fashionmnist\",\"EM-VS_fashionmnist\"]\n",
    "fashionmnist_results,_=show_results_table(experiment_names, row_names = row_names, base_path=\"cifar_mnist\",error_measures=['RAE'])\n",
    "print(fashionmnist_results)\n",
    "\n",
    "experiment_names = [\"settransformers_mse_fashionmnist\",\"deepsets_avg_mse_fashionmnist\",\"deepsets_median_mse_fashionmnist\",\"deepsets_max_mse_fashionmnist\",\"histnet_hard_mse_fashionmnist\",\n",
    "\"CC_fashionmnist\",\"PCC_fashionmnist\",\"AC_fashionmnist\",\"PAC_fashionmnist\",\"HDy_fashionmnist\",\n",
    "\"EM_fashionmnist\",\"EM-NBVS_fashionmnist\",\"EM-BCTS_fashionmnist\",\"EM-VS_fashionmnist\"]\n",
    "fashionmnist_results,_=show_results_table(experiment_names, row_names = row_names, base_path=\"cifar_mnist\",error_measures=['MSE'])\n",
    "print(fashionmnist_results)"
   ]
  },
  {
   "attachments": {},
   "cell_type": "markdown",
   "metadata": {},
   "source": [
    "## Optimizando diferentes medidas de error"
   ]
  },
  {
   "cell_type": "code",
   "execution_count": null,
   "metadata": {},
   "outputs": [],
   "source": [
    "experiment_names = [\"histnet_hard_ae_pretrained_cifar10\",\"histnet_hard_rae_pretrained_cifar10\",\"histnet_hard_mse_pretrained_cifar10\"]\n",
    "#,\n",
    "cifar10_results=show_results_table(experiment_names,base_path=\"cifar_mnist\",add_mse=True)\n",
    "print(cifar10_results)\n",
    "with open(os.path.join(export_dir,'tables/cifar10.tex'),'w') as f:\n",
    "    f.write(cifar10_results)"
   ]
  },
  {
   "attachments": {},
   "cell_type": "markdown",
   "metadata": {},
   "source": [
    "## Comparación con baselines la competición LEQUA"
   ]
  },
  {
   "cell_type": "code",
   "execution_count": null,
   "metadata": {},
   "outputs": [],
   "source": [
    "from dlquantification.utils.lossfunc import MRAE\n",
    "import torch\n",
    "\n",
    "def compute_errors(baselines,baseline_path,test_prevalences,dataset,loss_mrae):\n",
    "    test_prevalences = pd.read_csv(test_prevalences)\n",
    "    for baseline in baselines:\n",
    "        export_path = os.path.join(\"results/\", baseline + \"_\"+dataset+\"_errors.txt\")\n",
    "        if not os.path.exists(export_path):\n",
    "            errors = pd.DataFrame(columns=('AE','RAE'),index=range(5000))\n",
    "            results = pd.read_csv(os.path.join(baseline_path,baseline)+'.csv')\n",
    "            for i in range(len(results)):\n",
    "                errors.iloc[i]['RAE']=loss_mrae(torch.FloatTensor(test_prevalences.iloc[i,1:].to_numpy()), torch.FloatTensor(results.iloc[i,1:].to_numpy())).numpy()\n",
    "                errors.iloc[i]['AE']=torch.nn.functional.l1_loss(torch.FloatTensor(test_prevalences.iloc[i,1:].to_numpy()), torch.FloatTensor(results.iloc[i,1:].to_numpy())).numpy()\n",
    "            errors.to_csv(export_path, index_label=\"id\")\n",
    "\n",
    "\n",
    "baselines=['CC','ACC','HDy','PACC','PCC','QuaNet','SLD']\n",
    "#For this experiments we need to compute the errors as we only have the predictions\n",
    "\n",
    "loss_mrae = MRAE(eps=1.0 / (2 * 250), n_classes=2).MRAE\n",
    "baseline_path_T1A = os.path.join(path,'codalab/T1A')\n",
    "test_prevalences = './lequa/T1A/public/test_prevalences.txt'\n",
    "compute_errors(baselines,baseline_path_T1A,test_prevalences,'T1A',loss_mrae)\n",
    "baselines=['CC','ACC','PACC','PCC','SLD']\n",
    "loss_mrae = MRAE(eps=1.0 / (2 * 1000), n_classes=28).MRAE\n",
    "baseline_path_T1B = os.path.join(path,'codalab/T1B')\n",
    "test_prevalences = './lequa/T1B/public/test_prevalences.txt'\n",
    "compute_errors(baselines,baseline_path_T1B,test_prevalences,'T1B',loss_mrae)"
   ]
  },
  {
   "cell_type": "code",
   "execution_count": null,
   "metadata": {},
   "outputs": [],
   "source": [
    "experiment_names = [\"CC_T1A\",\"PCC_T1A\",\"ACC_T1A\",\"PACC_T1A\",\"HDy_T1A\",\"QuaNet_T1A\",\"SLD_T1A\",\"histnet_hard_T1A\"]\n",
    "baseline_results=show_results_table(experiment_names)\n",
    "print(baseline_results)\n",
    "with open(os.path.join(export_dir,'tables/baselines_t1a.tex'),'w') as f:\n",
    "    f.write(baseline_results)"
   ]
  },
  {
   "cell_type": "code",
   "execution_count": null,
   "metadata": {},
   "outputs": [],
   "source": [
    "experiment_names = [\"CC_T1B\",\"PCC_T1B\",\"ACC_T1B\",\"PACC_T1B\",\"SLD_T1B\",\"histnet_hard_T1B\"]\n",
    "baseline_results=show_results_table(experiment_names)\n",
    "print(baseline_results)\n",
    "with open(os.path.join(export_dir,'tables/baselines_t1b.tex'),'w') as f:\n",
    "    f.write(baseline_results)"
   ]
  }
 ],
 "metadata": {
  "kernelspec": {
   "display_name": "histnet",
   "language": "python",
   "name": "python3"
  },
  "language_info": {
   "codemirror_mode": {
    "name": "ipython",
    "version": 3
   },
   "file_extension": ".py",
   "mimetype": "text/x-python",
   "name": "python",
   "nbconvert_exporter": "python",
   "pygments_lexer": "ipython3",
   "version": "3.9.7"
  },
  "vscode": {
   "interpreter": {
    "hash": "4c8014f73ddd10ff49ad5404a22c3da7cfba1832c468d85b8f66804bcea46389"
   }
  }
 },
 "nbformat": 4,
 "nbformat_minor": 2
}
