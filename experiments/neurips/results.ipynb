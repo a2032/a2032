{
 "cells": [
  {
   "cell_type": "code",
   "execution_count": 1,
   "metadata": {},
   "outputs": [],
   "source": [
    "import matplotlib.pyplot as plt\n",
    "import io\n",
    "from PIL import Image, ImageChops\n",
    "\n",
    "white = (255, 255, 255, 255)\n",
    "\n",
    "def latex_to_img(tex):\n",
    "    buf = io.BytesIO()\n",
    "    plt.rc('text', usetex=True)\n",
    "    plt.rc('font', family='serif')\n",
    "    plt.axis('off')\n",
    "    plt.text(0.05, 0.5, f'${tex}$', size=40)\n",
    "    plt.savefig(buf, format='png')\n",
    "    plt.close()\n",
    "\n",
    "    im = Image.open(buf)\n",
    "    bg = Image.new(im.mode, im.size, white)\n",
    "    diff = ImageChops.difference(im, bg)\n",
    "    diff = ImageChops.add(diff, diff, 2.0, -100)\n",
    "    bbox = diff.getbbox()\n",
    "    return im.crop(bbox)"
   ]
  },
  {
   "cell_type": "code",
   "execution_count": 2,
   "metadata": {},
   "outputs": [],
   "source": [
    "from scipy.stats import wilcoxon\n",
    "import pandas as pd\n",
    "\n",
    "pd.set_option('display.max_rows', 500)\n",
    "pd.set_option('display.max_columns', 500)\n",
    "pd.set_option('display.width', 1000)\n",
    "pd.options.display.float_format = '{:.5f}'.format\n",
    "\n",
    "def wilcoxon_test(results_best,results_compare):\n",
    "    pvalue = wilcoxon(x=results_best,y=results_compare).pvalue\n",
    "    if pvalue<=0.001:\n",
    "        return {}\n",
    "    elif pvalue>0.001 and pvalue<0.05:\n",
    "        return {'dag':'--rwrap'}\n",
    "    else:\n",
    "        return {'ddag':'--rwrap'}"
   ]
  },
  {
   "cell_type": "code",
   "execution_count": 3,
   "metadata": {},
   "outputs": [],
   "source": [
    "import pandas as pd\n",
    "import os\n",
    "from functools import partial\n",
    "\n",
    "export_dir = '~/Dropbox/neuripshistnet'\n",
    "\n",
    "path = \"results\"\n",
    "\n",
    "def show_results_table(experiment_names,base_path='', include_std=False, row_names=None,error_measures=['AE','RAE']):\n",
    "    table = pd.DataFrame(columns=error_measures,dtype='float')\n",
    "    results_error = {}\n",
    "    for error_measure in error_measures:\n",
    "        results_error[error_measure] = dict()\n",
    "\n",
    "\n",
    "    for experiment in experiment_names:\n",
    "        results = pd.read_csv(os.path.join(base_path,path,experiment+'_errors.txt'))\n",
    "        for error_measure in error_measures:\n",
    "            results_error[error_measure][experiment] =results[error_measure]\n",
    "            table.loc[experiment,error_measure] = results[error_measure].mean()\n",
    "\n",
    "    #table = table.style.highlight_min(color = 'yellow', axis = 0)\n",
    "\n",
    "    #get best method for ae and best method for rae\n",
    "    best_method = {}\n",
    "    for error_measure in error_measures:\n",
    "        best_method[error_measure] = table.index[table[error_measure].argmin()]\n",
    "\n",
    "    table_style = table.style\n",
    "\n",
    "    #make wixcolom testing MAE\n",
    "    for experiment in experiment_names:\n",
    "        for error_measure in error_measures:\n",
    "            if experiment!=best_method[error_measure]:\n",
    "                table_style.set_properties(subset=(experiment,error_measure),**wilcoxon_test(results_error[error_measure][experiment],results_error[error_measure][best_method[error_measure]]))\n",
    "        \n",
    "    for error_measure in error_measures:    \n",
    "        table_style = table_style.highlight_min(axis=0,props='textbf:--rwrap;',subset=error_measure)\n",
    "    #table = table.style.highlight_min(color = 'yellow', axis = 0)\n",
    "\n",
    "    def add_deviation(x,std):\n",
    "        return \"{:.5f}\".format(x)+' $\\pm$ ' +\"{:.5f}\".format(std)\n",
    "\n",
    "    use_f = lambda x: partial(add_deviation, std=x)\n",
    "    formatters = [add_deviation]\n",
    "\n",
    "    if include_std:\n",
    "        for experiment_name in experiment_names:\n",
    "            for error_measure in error_measures:\n",
    "                std_value = results_error[error_measure][experiment_name].std()\n",
    "                table_style = table_style.format(formatter=use_f(std_value),subset=(experiment_name,error_measure))\n",
    "            \n",
    "\n",
    "    latex_code = table_style.to_latex(hrules=True,column_format=\"r|\"+\"r\"*len(table.columns))\n",
    "    if row_names is not None:\n",
    "        for experiment_name,row_name in zip(experiment_names,row_names):\n",
    "            latex_code = latex_code.replace(experiment_name,row_name)\n",
    "\n",
    "    return latex_code.replace(\"_\",\"\\\\_\"), results_error"
   ]
  },
  {
   "cell_type": "markdown",
   "metadata": {},
   "source": [
    "## Número de parámetros de cada red"
   ]
  },
  {
   "cell_type": "code",
   "execution_count": null,
   "metadata": {},
   "outputs": [
    {
     "name": "stdout",
     "output_type": "stream",
     "text": [
      "deepsets_avg_T1A:10678574\n",
      "deepsets_max_T1A:10678574\n",
      "deepsets_median_T1A:10678574\n",
      "settransformers_T1A:14185774\n",
      "histnet_sigmoid_T1A:29725038\n",
      "histnet_hard_T1A:29840174\n",
      "histnet_soft_T1A:29840174\n",
      "histnet_softrbf_T1A:29820974\n",
      "deepsets_avg_T1B:3048988\n",
      "deepsets_max_T1B:3048988\n",
      "deepsets_median_T1B:3048988\n",
      "settransformers_T1B:67434524\n",
      "histnet_sigmoid_T1B:68060764\n",
      "histnet_hard_T1B:68257308\n",
      "histnet_soft_T1B:68257308\n",
      "histnet_softrbf_T1B:68224540\n"
     ]
    }
   ],
   "source": [
    "import torch\n",
    "def get_num_parameters(state_dict):\n",
    "    return sum(p.numel() for p in state_dict.values())\n",
    "\n",
    "experiment_names = [\"deepsets_avg_T1A\",\"deepsets_max_T1A\",\"deepsets_median_T1A\",\"settransformers_T1A\",\"histnet_sigmoid_T1A\",\"histnet_hard_T1A\",\"histnet_soft_T1A\",\"histnet_softrbf_T1A\",\"deepsets_avg_T1B\",\"deepsets_max_T1B\",\"deepsets_median_T1B\",\"settransformers_T1B\",\"histnet_sigmoid_T1B\",\"histnet_hard_T1B\",\"histnet_soft_T1B\",\"histnet_softrbf_T1B\"]\n",
    "for experiment in experiment_names:\n",
    "    #load the model\n",
    "    print(experiment+\":\"+str(get_num_parameters(torch.load(os.path.join('savedmodels',experiment+'.pkl')))))\n"
   ]
  },
  {
   "cell_type": "markdown",
   "metadata": {},
   "source": [
    "## Results T1A"
   ]
  },
  {
   "cell_type": "code",
   "execution_count": 5,
   "metadata": {},
   "outputs": [
    {
     "name": "stdout",
     "output_type": "stream",
     "text": [
      "\\begin{tabular}{r|rr}\n",
      "\\toprule\n",
      "{} & {AE} & {RAE} \\\\\n",
      "\\midrule\n",
      "Deepsets (avg) & 0.03263 $\\pm$ 0.02488 & 0.14692 $\\pm$ 0.28142 \\\\\n",
      "Deepsets (max) & 0.05701 $\\pm$ 0.04911 & 0.22865 $\\pm$ 0.46184 \\\\\n",
      "Deepsets (median) & 0.04569 $\\pm$ 0.03578 & 0.19327 $\\pm$ 0.31328 \\\\\n",
      "SetTransformers & 0.03681 $\\pm$ 0.02735 & 0.15534 $\\pm$ 0.20086 \\\\\n",
      "HistNetQ & \\textbf{0.02786 $\\pm$ 0.02060} & \\textbf{0.12654 $\\pm$ 0.24640} \\\\\n",
      "\\bottomrule\n",
      "\\end{tabular}\n",
      "\n"
     ]
    },
    {
     "ename": "FileNotFoundError",
     "evalue": "[Errno 2] No such file or directory: '~/Dropbox/neuripshistnet/tables/t1a_table.tex'",
     "output_type": "error",
     "traceback": [
      "\u001b[0;31m---------------------------------------------------------------------------\u001b[0m",
      "\u001b[0;31mFileNotFoundError\u001b[0m                         Traceback (most recent call last)",
      "\u001b[1;32m/media/nas/pgonzalez/a2032/experiments/icml/results.ipynb Cell 7\u001b[0m in \u001b[0;36m<module>\u001b[0;34m\u001b[0m\n\u001b[1;32m      <a href='vscode-notebook-cell://localhost:8080/media/nas/pgonzalez/a2032/experiments/icml/results.ipynb#W6sdnNjb2RlLXJlbW90ZQ%3D%3D?line=2'>3</a>\u001b[0m t1a_table,_ \u001b[39m=\u001b[39m show_results_table(experiment_names\u001b[39m=\u001b[39mexperiment_names, base_path\u001b[39m=\u001b[39m\u001b[39m'\u001b[39m\u001b[39m'\u001b[39m, include_std\u001b[39m=\u001b[39m\u001b[39mTrue\u001b[39;00m,error_measures\u001b[39m=\u001b[39m[\u001b[39m'\u001b[39m\u001b[39mAE\u001b[39m\u001b[39m'\u001b[39m,\u001b[39m'\u001b[39m\u001b[39mRAE\u001b[39m\u001b[39m'\u001b[39m], row_names\u001b[39m=\u001b[39mrow_names)\n\u001b[1;32m      <a href='vscode-notebook-cell://localhost:8080/media/nas/pgonzalez/a2032/experiments/icml/results.ipynb#W6sdnNjb2RlLXJlbW90ZQ%3D%3D?line=3'>4</a>\u001b[0m \u001b[39mprint\u001b[39m(t1a_table)\n\u001b[0;32m----> <a href='vscode-notebook-cell://localhost:8080/media/nas/pgonzalez/a2032/experiments/icml/results.ipynb#W6sdnNjb2RlLXJlbW90ZQ%3D%3D?line=4'>5</a>\u001b[0m \u001b[39mwith\u001b[39;00m \u001b[39mopen\u001b[39;49m(os\u001b[39m.\u001b[39;49mpath\u001b[39m.\u001b[39;49mjoin(export_dir,\u001b[39m'\u001b[39;49m\u001b[39mtables/t1a_table.tex\u001b[39;49m\u001b[39m'\u001b[39;49m),\u001b[39m'\u001b[39;49m\u001b[39mw\u001b[39;49m\u001b[39m'\u001b[39;49m) \u001b[39mas\u001b[39;00m f:\n\u001b[1;32m      <a href='vscode-notebook-cell://localhost:8080/media/nas/pgonzalez/a2032/experiments/icml/results.ipynb#W6sdnNjb2RlLXJlbW90ZQ%3D%3D?line=5'>6</a>\u001b[0m     f\u001b[39m.\u001b[39mwrite(t1a_table)\n",
      "\u001b[0;31mFileNotFoundError\u001b[0m: [Errno 2] No such file or directory: '~/Dropbox/neuripshistnet/tables/t1a_table.tex'"
     ]
    }
   ],
   "source": [
    "experiment_names = [\"deepsets_avg_T1A\",\"deepsets_max_T1A\",\"deepsets_median_T1A\",\"settransformers_T1A\",\"histnet_hard_T1A\"]\n",
    "row_names = [\"Deepsets (avg)\",\"Deepsets (max)\",\"Deepsets (median)\",\"SetTransformers\",\"HistNetQ\"]\n",
    "t1a_table,_ = show_results_table(experiment_names=experiment_names, base_path='', include_std=True,error_measures=['AE','RAE'], row_names=row_names)\n",
    "print(t1a_table)\n",
    "with open(os.path.join(export_dir,'tables/t1a_table.tex'),'w') as f:\n",
    "    f.write(t1a_table)\n"
   ]
  },
  {
   "cell_type": "markdown",
   "metadata": {},
   "source": [
    "## Results T1B"
   ]
  },
  {
   "cell_type": "code",
   "execution_count": 6,
   "metadata": {},
   "outputs": [
    {
     "name": "stdout",
     "output_type": "stream",
     "text": [
      "\\begin{tabular}{r|rr}\n",
      "\\toprule\n",
      "{} & {AE} & {RAE} \\\\\n",
      "\\midrule\n",
      "Deepsets (avg) & 0.04488 $\\pm$ 0.00749 & 1.50290 $\\pm$ 1.43556 \\\\\n",
      "Deepsets (median) & \\textbf{0.01855 $\\pm$ 0.00600} & \\textbf{1.04310 $\\pm$ 0.73204} \\\\\n",
      "SetTransformers & 0.03113 $\\pm$ 0.00395 & 4.24157 $\\pm$ 2.66019 \\\\\n",
      "HistNetQ & 0.04453 $\\pm$ 0.00763 & 1.51080 $\\pm$ 1.45367 \\\\\n",
      "\\bottomrule\n",
      "\\end{tabular}\n",
      "\n"
     ]
    },
    {
     "ename": "FileNotFoundError",
     "evalue": "[Errno 2] No such file or directory: '~/Dropbox/neuripshistnet/tables/t1b_table.tex'",
     "output_type": "error",
     "traceback": [
      "\u001b[0;31m---------------------------------------------------------------------------\u001b[0m",
      "\u001b[0;31mFileNotFoundError\u001b[0m                         Traceback (most recent call last)",
      "\u001b[1;32m/media/nas/pgonzalez/a2032/experiments/icml/results.ipynb Cell 9\u001b[0m in \u001b[0;36m<module>\u001b[0;34m\u001b[0m\n\u001b[1;32m      <a href='vscode-notebook-cell://localhost:8080/media/nas/pgonzalez/a2032/experiments/icml/results.ipynb#X11sdnNjb2RlLXJlbW90ZQ%3D%3D?line=2'>3</a>\u001b[0m t1b_table,_\u001b[39m=\u001b[39mshow_results_table(experiment_names,include_std\u001b[39m=\u001b[39m\u001b[39mTrue\u001b[39;00m,row_names\u001b[39m=\u001b[39mrow_names)\n\u001b[1;32m      <a href='vscode-notebook-cell://localhost:8080/media/nas/pgonzalez/a2032/experiments/icml/results.ipynb#X11sdnNjb2RlLXJlbW90ZQ%3D%3D?line=3'>4</a>\u001b[0m \u001b[39mprint\u001b[39m(t1b_table)\n\u001b[0;32m----> <a href='vscode-notebook-cell://localhost:8080/media/nas/pgonzalez/a2032/experiments/icml/results.ipynb#X11sdnNjb2RlLXJlbW90ZQ%3D%3D?line=4'>5</a>\u001b[0m \u001b[39mwith\u001b[39;00m \u001b[39mopen\u001b[39;49m(os\u001b[39m.\u001b[39;49mpath\u001b[39m.\u001b[39;49mjoin(export_dir,\u001b[39m'\u001b[39;49m\u001b[39mtables/t1b_table.tex\u001b[39;49m\u001b[39m'\u001b[39;49m),\u001b[39m'\u001b[39;49m\u001b[39mw\u001b[39;49m\u001b[39m'\u001b[39;49m) \u001b[39mas\u001b[39;00m f:\n\u001b[1;32m      <a href='vscode-notebook-cell://localhost:8080/media/nas/pgonzalez/a2032/experiments/icml/results.ipynb#X11sdnNjb2RlLXJlbW90ZQ%3D%3D?line=5'>6</a>\u001b[0m     f\u001b[39m.\u001b[39mwrite(t1b_table)\n",
      "\u001b[0;31mFileNotFoundError\u001b[0m: [Errno 2] No such file or directory: '~/Dropbox/neuripshistnet/tables/t1b_table.tex'"
     ]
    }
   ],
   "source": [
    "experiment_names = [\"deepsets_avg_T1B\",\"deepsets_median_T1B\",\"settransformers_T1B\",\"histnet_hard_T1B_64bins\"]\n",
    "row_names = [\"Deepsets (avg)\",\"Deepsets (median)\",\"SetTransformers\",\"HistNetQ\"]\n",
    "t1b_table,_=show_results_table(experiment_names,include_std=True,row_names=row_names)\n",
    "print(t1b_table)\n",
    "with open(os.path.join(export_dir,'tables/t1b_table.tex'),'w') as f:\n",
    "    f.write(t1b_table)"
   ]
  },
  {
   "cell_type": "markdown",
   "metadata": {},
   "source": [
    "## Análisis por número de bins"
   ]
  },
  {
   "cell_type": "code",
   "execution_count": 61,
   "metadata": {},
   "outputs": [
    {
     "name": "stdout",
     "output_type": "stream",
     "text": [
      "\\begin{tabular}{r|rr}\n",
      "\\toprule\n",
      " & AE & RAE \\\\\n",
      "\\midrule\n",
      "HistNet (8 bins) & 0.02966 $\\pm$ 0.00820 & 1.28782 $\\pm$ 0.99960 \\\\\n",
      "HistNet (16 bins) & 0.02120 $\\pm$ 0.00710 & 1.05719 $\\pm$ 0.73762 \\\\\n",
      "HistNet (32 bins) & 0.01212 $\\pm$ 0.00482 & 0.78514 $\\pm$ 0.51994 \\\\\n",
      "HistNet (32 bins)\\_64bins & \\textbf{0.01070 $\\pm$ 0.00367} & \\textbf{0.75739 $\\pm$ 0.48891} \\\\\n",
      "\\bottomrule\n",
      "\\end{tabular}\n",
      "\n"
     ]
    },
    {
     "name": "stderr",
     "output_type": "stream",
     "text": [
      "/tmp/ipykernel_5755/796027224.py:12: FutureWarning: The frame.append method is deprecated and will be removed from pandas in a future version. Use pandas.concat instead.\n",
      "  chart_data = chart_data.append({\"n_bins\":8,\"rae\":results_error['RAE']['histnet_hard_T1B_8bins'].mean()},ignore_index=True)\n",
      "/tmp/ipykernel_5755/796027224.py:13: FutureWarning: The frame.append method is deprecated and will be removed from pandas in a future version. Use pandas.concat instead.\n",
      "  chart_data = chart_data.append({\"n_bins\":16,\"rae\":results_error['RAE']['histnet_hard_T1B_16bins'].mean()},ignore_index=True)\n",
      "/tmp/ipykernel_5755/796027224.py:14: FutureWarning: The frame.append method is deprecated and will be removed from pandas in a future version. Use pandas.concat instead.\n",
      "  chart_data = chart_data.append({\"n_bins\":32,\"rae\":results_error['RAE']['histnet_hard_T1B'].mean()},ignore_index=True)\n",
      "/tmp/ipykernel_5755/796027224.py:15: FutureWarning: The frame.append method is deprecated and will be removed from pandas in a future version. Use pandas.concat instead.\n",
      "  chart_data = chart_data.append({\"n_bins\":64,\"rae\":results_error['RAE']['histnet_hard_T1B_64bins'].mean()},ignore_index=True)\n"
     ]
    },
    {
     "data": {
      "image/png": "[encoded data removed]",
      "text/plain": [
       "<Figure size 432x216 with 1 Axes>"
      ]
     },
     "metadata": {},
     "output_type": "display_data"
    }
   ],
   "source": [
    "import numpy as np\n",
    "import seaborn as sns\n",
    "sns.set_theme()\n",
    "experiment_names = [\"histnet_hard_T1B_8bins\",\"histnet_hard_T1B_16bins\",\"histnet_hard_T1B\",\"histnet_hard_T1B_64bins\"]\n",
    "row_names = [\"HistNet (8 bins)\",\"HistNet (16 bins)\",\"HistNet (32 bins)\",\"HistNet (64 bins)\"]\n",
    "bins_comp, results_error=show_results_table(experiment_names, row_names = row_names, include_std=True)\n",
    "print(bins_comp)\n",
    "with open(os.path.join(export_dir,'tables/bins_comp.tex'),'w') as f:\n",
    "    f.write(bins_comp)\n",
    "\n",
    "chart_data = pd.DataFrame(columns=(\"n_bins\",\"rae\"),dtype = ('int','float'))\n",
    "chart_data = chart_data.append({\"n_bins\":8,\"rae\":results_error['RAE']['histnet_hard_T1B_8bins'].mean()},ignore_index=True)\n",
    "chart_data = chart_data.append({\"n_bins\":16,\"rae\":results_error['RAE']['histnet_hard_T1B_16bins'].mean()},ignore_index=True)\n",
    "chart_data = chart_data.append({\"n_bins\":32,\"rae\":results_error['RAE']['histnet_hard_T1B'].mean()},ignore_index=True)\n",
    "chart_data = chart_data.append({\"n_bins\":64,\"rae\":results_error['RAE']['histnet_hard_T1B_64bins'].mean()},ignore_index=True)\n",
    "chart_data.n_bins = chart_data.n_bins.astype(int)\n",
    "\n",
    "plt.figure(figsize=(6,3))\n",
    "sns.lineplot(data=chart_data,x='n_bins',y='rae',marker='^',markersize=10)\n",
    "plt.xlabel(\"Number of bins\")\n",
    "plt.ylabel(\"RAE\")\n",
    "plt.title(\"Performance by number of bins\")\n",
    "plt.savefig(os.path.join(export_dir,'figures/bybins.pdf'), dpi=300, bbox_inches='tight')\n"
   ]
  },
  {
   "cell_type": "markdown",
   "metadata": {},
   "source": [
    "## ISAB como feature extraction"
   ]
  },
  {
   "cell_type": "code",
   "execution_count": null,
   "metadata": {},
   "outputs": [
    {
     "name": "stdout",
     "output_type": "stream",
     "text": [
      "\\begin{tabular}{r|rr}\n",
      "\\toprule\n",
      "{} & {AE} & {RAE} \\\\\n",
      "\\midrule\n",
      "isab\\_deepsets\\_max\\_T1B & 0.026447 & 1.921214 \\\\\n",
      "isab\\_deepsets\\_avg\\_T1B & \\textbf{0.016090} & \\dag{1.194885} \\\\\n",
      "isab\\_deepsets\\_median\\_T1B & 0.016574 & \\textbf{1.181001} \\\\\n",
      "isab\\_histnet\\_sigmoid\\_T1B & 0.042871 & 2.145537 \\\\\n",
      "isab\\_histnet\\_soft\\_T1B & 0.044312 & 2.163680 \\\\\n",
      "isab\\_histnet\\_softrbf\\_T1B & 0.043130 & 2.158914 \\\\\n",
      "isab\\_histnet\\_hard\\_T1B & 0.043544 & 1.992917 \\\\\n",
      "\\bottomrule\n",
      "\\end{tabular}\n",
      "\n"
     ]
    },
    {
     "data": {
      "image/png": "[encoded data removed]",
      "text/plain": [
       "<Figure size 432x288 with 1 Axes>"
      ]
     },
     "metadata": {
      "needs_background": "light"
     },
     "output_type": "display_data"
    }
   ],
   "source": [
    "experiment_names = [\"isab_deepsets_max_T1B\",\"isab_deepsets_avg_T1B\",\"isab_deepsets_median_T1B\",\"isab_histnet_sigmoid_T1B\",\"isab_histnet_soft_T1B\",\"isab_histnet_softrbf_T1B\",\"isab_histnet_hard_T1B\"]\n",
    "isab_comp=show_results_table(experiment_names)\n",
    "print(isab_comp)\n",
    "with open(os.path.join(export_dir,'tables/isab_as_fe.tex'),'w') as f:\n",
    "    f.write(isab_comp)"
   ]
  },
  {
   "cell_type": "markdown",
   "metadata": {},
   "source": [
    "## No fe extraction"
   ]
  },
  {
   "cell_type": "code",
   "execution_count": null,
   "metadata": {},
   "outputs": [
    {
     "name": "stdout",
     "output_type": "stream",
     "text": [
      "\\begin{tabular}{r|rr}\n",
      "\\toprule\n",
      "{} & {AE} & {RAE} \\\\\n",
      "\\midrule\n",
      "norff\\_settransformers\\_T1B & 0.021691 & 1.296706 \\\\\n",
      "norff\\_deepsets\\_max\\_T1B & 0.065511 & 5.341582 \\\\\n",
      "norff\\_deepsets\\_avg\\_T1B & \\textbf{0.019429} & \\textbf{1.038535} \\\\\n",
      "norff\\_deepsets\\_median\\_T1B & 0.023516 & 1.137903 \\\\\n",
      "norff\\_histnet\\_sigmoid\\_T1B & 0.022918 & 1.675030 \\\\\n",
      "norff\\_histnet\\_soft\\_T1B & 0.023768 & 1.825683 \\\\\n",
      "norff\\_histnet\\_softrbf\\_T1B & 0.024449 & 1.602075 \\\\\n",
      "norff\\_histnet\\_hard\\_T1B & 0.024386 & 1.262156 \\\\\n",
      "\\bottomrule\n",
      "\\end{tabular}\n",
      "\n"
     ]
    },
    {
     "data": {
      "image/png": "[encoded data removed]",
      "text/plain": [
       "<Figure size 432x288 with 1 Axes>"
      ]
     },
     "metadata": {
      "needs_background": "light"
     },
     "output_type": "display_data"
    }
   ],
   "source": [
    "experiment_names = [\"norff_settransformers_T1B\",\"norff_deepsets_max_T1B\",\"norff_deepsets_avg_T1B\",\"norff_deepsets_median_T1B\",\"norff_histnet_sigmoid_T1B\",\"norff_histnet_soft_T1B\",\"norff_histnet_softrbf_T1B\",\"norff_histnet_hard_T1B\"]\n",
    "nofe_comp=show_results_table(experiment_names)\n",
    "print(nofe_comp)\n",
    "with open(os.path.join(export_dir,'tables/nofe.tex'),'w') as f:\n",
    "    f.write(nofe_comp)"
   ]
  },
  {
   "cell_type": "markdown",
   "metadata": {},
   "source": [
    "## Resultados en el dataset MNIST\n",
    "Básicamente este experimento consiste en un APP sobre el conjunto de test con 5000 muestras de prueba."
   ]
  },
  {
   "cell_type": "code",
   "execution_count": 14,
   "metadata": {},
   "outputs": [
    {
     "name": "stdout",
     "output_type": "stream",
     "text": [
      "\\begin{tabular}{r|rr}\n",
      "\\toprule\n",
      "{} & {AE} & {RAE} \\\\\n",
      "\\midrule\n",
      "settransformers\\_mnist & 0.005365 & 0.193614 \\\\\n",
      "deepsets\\_max\\_mnist & 0.018962 & 0.314427 \\\\\n",
      "deepsets\\_avg\\_mnist & 0.006456 & 0.245147 \\\\\n",
      "deepsets\\_median\\_mnist & 0.006318 & 0.223769 \\\\\n",
      "histnet\\_softrbf\\_mnist & 0.004568 & 0.201368 \\\\\n",
      "histnet\\_hard\\_mnist & 0.003957 & 0.185075 \\\\\n",
      "CC\\_mnist & 0.001767 & 0.045837 \\\\\n",
      "AC\\_mnist & 0.001623 & 0.042435 \\\\\n",
      "PAC\\_mnist & \\textbf{0.001456} & 0.038079 \\\\\n",
      "HDy\\_mnist & 0.002046 & 0.040856 \\\\\n",
      "EM\\_mnist & 0.001527 & \\textbf{0.027106} \\\\\n",
      "\\bottomrule\n",
      "\\end{tabular}\n",
      "\n"
     ]
    },
    {
     "data": {
      "image/png": "[encoded data removed]",
      "text/plain": [
       "<Figure size 432x288 with 1 Axes>"
      ]
     },
     "metadata": {
      "needs_background": "light"
     },
     "output_type": "display_data"
    }
   ],
   "source": [
    "experiment_names = [\"settransformers_mnist\",\"deepsets_max_mnist\",\"deepsets_avg_mnist\",\"deepsets_median_mnist\",\"histnet_softrbf_mnist\",\"histnet_hard_mnist\",\"CC_mnist\",\"AC_mnist\",\"PAC_mnist\",\"HDy_mnist\",\"EM_mnist\"]\n",
    "mnist_results=show_results_table(experiment_names,base_path='cifar_mnist')\n",
    "print(mnist_results)\n",
    "with open(os.path.join(export_dir,'tables/mnist.tex'),'w') as f:\n",
    "    f.write(mnist_results)"
   ]
  },
  {
   "cell_type": "markdown",
   "metadata": {},
   "source": [
    "## Resultados CIFAR 10"
   ]
  },
  {
   "cell_type": "code",
   "execution_count": 23,
   "metadata": {},
   "outputs": [
    {
     "name": "stdout",
     "output_type": "stream",
     "text": [
      "\\begin{tabular}{r|rr}\n",
      "\\toprule\n",
      "{} & {AE} & {RAE} & {MSE} \\\\\n",
      "\\midrule\n",
      "settransformers\\_ae\\_pretrained\\_cifar10 & 0.010027 & 0.371105 & 0.000187 \\\\\n",
      "deepsets\\_avg\\_ae\\_pretrained\\_cifar10 & 0.012029 & 0.445794 & 0.000250 \\\\\n",
      "histnet\\_hard\\_ae\\_pretrained\\_cifar10 & 0.010319 & 0.404029 & 0.000210 \\\\\n",
      "CC\\_cifar10 & 0.021513 & 0.812228 & 0.000916 \\\\\n",
      "AC\\_cifar10 & 0.009870 & 0.248992 & 0.000178 \\\\\n",
      "PAC\\_cifar10 & 0.008492 & 0.210952 & 0.000133 \\\\\n",
      "HDy\\_cifar10 & 0.008729 & 0.190653 & 0.000141 \\\\\n",
      "EM\\_cifar10 & 0.016648 & 0.387251 & 0.000586 \\\\\n",
      "EM-NBVS\\_cifar10 & 0.008597 & 0.173863 & 0.000139 \\\\\n",
      "EM-BCTS\\_cifar10 & 0.017240 & 0.359899 & 0.000647 \\\\\n",
      "EM-VS\\_cifar10 & \\textbf{0.007613} & \\textbf{0.168912} & \\textbf{0.000109} \\\\\n",
      "\\bottomrule\n",
      "\\end{tabular}\n",
      "\n"
     ]
    },
    {
     "data": {
      "image/png": "[encoded data removed]",
      "text/plain": [
       "<Figure size 432x288 with 1 Axes>"
      ]
     },
     "metadata": {
      "needs_background": "light"
     },
     "output_type": "display_data"
    }
   ],
   "source": [
    "experiment_names = [\"settransformers_ae_pretrained_cifar10\",\"deepsets_avg_ae_pretrained_cifar10\",\"histnet_hard_ae_pretrained_cifar10\",\"CC_cifar10\",\"AC_cifar10\",\"PAC_cifar10\",\"HDy_cifar10\",\"EM_cifar10\",\"EM-NBVS_cifar10\",\"EM-BCTS_cifar10\",\"EM-VS_cifar10\"]\n",
    "#,\n",
    "cifar10_results=show_results_table(experiment_names,base_path=\"cifar_mnist\",add_mse=True)\n",
    "print(cifar10_results)\n",
    "with open(os.path.join(export_dir,'tables/cifar10.tex'),'w') as f:\n",
    "    f.write(cifar10_results)"
   ]
  },
  {
   "attachments": {},
   "cell_type": "markdown",
   "metadata": {},
   "source": [
    "## Resultados FASHIONMNIST"
   ]
  },
  {
   "cell_type": "code",
   "execution_count": 4,
   "metadata": {},
   "outputs": [
    {
     "name": "stdout",
     "output_type": "stream",
     "text": [
      "\\begin{tabular}{r|rrr}\n",
      "\\toprule\n",
      " & AE & RAE & MSE \\\\\n",
      "\\midrule\n",
      "settransformers\\_ae\\_fashionmnist & 0.01043 $\\pm$ 0.00328 & 0.37164 $\\pm$ 0.44702 & 0.00021 $\\pm$ 0.00017 \\\\\n",
      "settransformers\\_rae\\_fashionmnist & 0.12947 $\\pm$ 0.02279 & 2.20175 $\\pm$ 1.19007 & 0.03305 $\\pm$ 0.01029 \\\\\n",
      "settransformers\\_mse\\_fashionmnist & 0.00882 $\\pm$ 0.00270 & 0.34463 $\\pm$ 0.40529 & 0.00014 $\\pm$ 0.00011 \\\\\n",
      "deepsets\\_avg\\_ae\\_fashionmnist & 0.00829 $\\pm$ 0.00254 & 0.29700 $\\pm$ 0.34086 & 0.00013 $\\pm$ 0.00010 \\\\\n",
      "deepsets\\_avg\\_rae\\_fashionmnist & 0.02494 $\\pm$ 0.01429 & 0.32826 $\\pm$ 0.23251 & 0.00226 $\\pm$ 0.00345 \\\\\n",
      "deepsets\\_avg\\_mse\\_fashionmnist & 0.00834 $\\pm$ 0.00252 & 0.32325 $\\pm$ 0.37827 & 0.00013 $\\pm$ 0.00009 \\\\\n",
      "deepsets\\_median\\_ae\\_fashionmnist & 0.00942 $\\pm$ 0.00288 & 0.35496 $\\pm$ 0.42178 & 0.00017 $\\pm$ 0.00012 \\\\\n",
      "deepsets\\_median\\_rae\\_fashionmnist & 0.06554 $\\pm$ 0.01760 & 0.71946 $\\pm$ 0.58579 & 0.01203 $\\pm$ 0.00792 \\\\\n",
      "deepsets\\_median\\_mse\\_fashionmnist & 0.00850 $\\pm$ 0.00256 & 0.32724 $\\pm$ 0.38675 & 0.00013 $\\pm$ 0.00010 \\\\\n",
      "deepsets\\_max\\_ae\\_fashionmnist & 0.02185 $\\pm$ 0.00699 & 0.41466 $\\pm$ 0.34917 & 0.00111 $\\pm$ 0.00092 \\\\\n",
      "deepsets\\_max\\_rae\\_fashionmnist & 0.02502 $\\pm$ 0.01115 & 0.35195 $\\pm$ 0.32316 & 0.00183 $\\pm$ 0.00252 \\\\\n",
      "deepsets\\_max\\_mse\\_fashionmnist & 0.02179 $\\pm$ 0.00672 & 0.47592 $\\pm$ 0.39554 & 0.00104 $\\pm$ 0.00084 \\\\\n",
      "histnet\\_hard\\_ae\\_fashionmnist & \\textbf{0.00602 $\\pm$ 0.00206} & 0.23270 $\\pm$ 0.28885 & \\textbf{0.00008 $\\pm$ 0.00007} \\\\\n",
      "histnet\\_hard\\_rae\\_fashionmnist & 0.00685 $\\pm$ 0.00239 & \\dag{0.15923 $\\pm$ 0.17085} & 0.00011 $\\pm$ 0.00011 \\\\\n",
      "histnet\\_hard\\_mse\\_fashionmnist & 0.00640 $\\pm$ 0.00199 & 0.26665 $\\pm$ 0.32660 & 0.00008 $\\pm$ 0.00006 \\\\\n",
      "CC\\_fashionmnist & 0.01634 $\\pm$ 0.00738 & 0.58279 $\\pm$ 0.72314 & 0.00071 $\\pm$ 0.00095 \\\\\n",
      "PCC\\_fashionmnist & 0.02040 $\\pm$ 0.00796 & 0.78168 $\\pm$ 0.97434 & 0.00101 $\\pm$ 0.00110 \\\\\n",
      "AC\\_fashionmnist & 0.00824 $\\pm$ 0.00310 & 0.22256 $\\pm$ 0.23753 & 0.00015 $\\pm$ 0.00016 \\\\\n",
      "PAC\\_fashionmnist & 0.00673 $\\pm$ 0.00238 & 0.18310 $\\pm$ 0.19252 & 0.00010 $\\pm$ 0.00009 \\\\\n",
      "HDy\\_fashionmnist & 0.00721 $\\pm$ 0.00248 & 0.16697 $\\pm$ 0.15663 & 0.00011 $\\pm$ 0.00009 \\\\\n",
      "EM\\_fashionmnist & 0.01324 $\\pm$ 0.00472 & 0.25493 $\\pm$ 0.22246 & 0.00038 $\\pm$ 0.00033 \\\\\n",
      "EM-NBVS\\_fashionmnist & 0.00665 $\\pm$ 0.00253 & 0.15468 $\\pm$ 0.15987 & 0.00010 $\\pm$ 0.00011 \\\\\n",
      "EM-BCTS\\_fashionmnist & 0.00652 $\\pm$ 0.00246 & \\textbf{0.15097 $\\pm$ 0.15191} & 0.00010 $\\pm$ 0.00010 \\\\\n",
      "EM-VS\\_fashionmnist & 0.00648 $\\pm$ 0.00243 & \\dag{0.15307 $\\pm$ 0.15945} & 0.00010 $\\pm$ 0.00010 \\\\\n",
      "\\bottomrule\n",
      "\\end{tabular}\n",
      "\n"
     ]
    }
   ],
   "source": [
    "experiment_names = [\"settransformers_ae_fashionmnist\",\"settransformers_rae_fashionmnist\",\"settransformers_mse_fashionmnist\",\n",
    "\"deepsets_avg_ae_fashionmnist\",\"deepsets_avg_ae_fashionmnist\",\"deepsets_avg_rae_fashionmnist\",\"deepsets_avg_mse_fashionmnist\",\n",
    "\"deepsets_median_ae_fashionmnist\",\"deepsets_median_rae_fashionmnist\",\"deepsets_median_mse_fashionmnist\",\"deepsets_max_ae_fashionmnist\",\n",
    "\"deepsets_max_rae_fashionmnist\",\"deepsets_max_mse_fashionmnist\",\n",
    "\"histnet_hard_ae_fashionmnist\",\"histnet_hard_rae_fashionmnist\",\"histnet_hard_mse_fashionmnist\",\n",
    "#\"histnet_hard_batched_ae_fashionmnist\",\"histnet_hard_batched_rae_fashionmnist\",\"histnet_hard_batched_mse_fashionmnist\",\n",
    "\"CC_fashionmnist\",\"PCC_fashionmnist\",\"AC_fashionmnist\",\"PAC_fashionmnist\",\"HDy_fashionmnist\",\n",
    "\"EM_fashionmnist\",\"EM-NBVS_fashionmnist\",\"EM-BCTS_fashionmnist\",\"EM-VS_fashionmnist\"]\n",
    "#,\n",
    "\n",
    "fashionmnist_results,_=show_results_table(experiment_names,base_path=\"cifar_mnist\",include_std=True,error_measures=['AE','RAE','MSE'])\n",
    "print(fashionmnist_results)\n",
    "with open(os.path.join(export_dir,'tables/fashionmnist.tex'),'w') as f:\n",
    "    f.write(fashionmnist_results)"
   ]
  },
  {
   "attachments": {},
   "cell_type": "markdown",
   "metadata": {},
   "source": [
    "## Fashion-mnist resumida\n",
    "### AE\n"
   ]
  },
  {
   "cell_type": "code",
   "execution_count": 7,
   "metadata": {},
   "outputs": [
    {
     "name": "stdout",
     "output_type": "stream",
     "text": [
      "\\begin{tabular}{r|r}\n",
      "\\toprule\n",
      " & AE \\\\\n",
      "\\midrule\n",
      "SetTransformers & 0.010435 \\\\\n",
      "Deepsets (avg) & 0.008292 \\\\\n",
      "Deepsets (median) & 0.009423 \\\\\n",
      "Deepsets (max) & 0.021851 \\\\\n",
      "HistNet & \\textbf{0.006016} \\\\\n",
      "CC & 0.016343 \\\\\n",
      "PCC & 0.020403 \\\\\n",
      "ACC & 0.008239 \\\\\n",
      "PACC & 0.006729 \\\\\n",
      "HDy & 0.007211 \\\\\n",
      "EM & 0.013242 \\\\\n",
      "EM-NBVS & 0.006649 \\\\\n",
      "EM-BCTS & 0.013384 \\\\\n",
      "EM-VS & 0.006478 \\\\\n",
      "\\bottomrule\n",
      "\\end{tabular}\n",
      "\n",
      "\\begin{tabular}{r|r}\n",
      "\\toprule\n",
      " & RAE \\\\\n",
      "\\midrule\n",
      "SetTransformers & 2.201746 \\\\\n",
      "Deepsets (avg) & 0.328262 \\\\\n",
      "Deepsets (median) & 0.719457 \\\\\n",
      "Deepsets (max) & 0.351952 \\\\\n",
      "HistNet & \\ddag{0.159235} \\\\\n",
      "CC & 0.582785 \\\\\n",
      "PCC & 0.781676 \\\\\n",
      "ACC & 0.222564 \\\\\n",
      "PACC & 0.183103 \\\\\n",
      "HDy & 0.166974 \\\\\n",
      "EM & 0.254928 \\\\\n",
      "EM-NBVS & 0.154677 \\\\\n",
      "EM-BCTS & 0.253795 \\\\\n",
      "EM-VS & \\textbf{0.153072} \\\\\n",
      "\\bottomrule\n",
      "\\end{tabular}\n",
      "\n",
      "\\begin{tabular}{r|r}\n",
      "\\toprule\n",
      " & MSE \\\\\n",
      "\\midrule\n",
      "SetTransformers & 0.000142 \\\\\n",
      "Deepsets (avg) & 0.000129 \\\\\n",
      "Deepsets (median) & 0.000131 \\\\\n",
      "Deepsets (max) & 0.001037 \\\\\n",
      "HistNet & \\textbf{0.000077} \\\\\n",
      "CC & 0.000715 \\\\\n",
      "PCC & 0.001012 \\\\\n",
      "ACC & 0.000154 \\\\\n",
      "PACC & 0.000098 \\\\\n",
      "HDy & 0.000109 \\\\\n",
      "EM & 0.000381 \\\\\n",
      "EM-NBVS & 0.000103 \\\\\n",
      "EM-BCTS & 0.000387 \\\\\n",
      "EM-VS & 0.000097 \\\\\n",
      "\\bottomrule\n",
      "\\end{tabular}\n",
      "\n"
     ]
    }
   ],
   "source": [
    "experiment_names = [\"settransformers_ae_fashionmnist\",\"deepsets_avg_ae_fashionmnist\",\"deepsets_median_ae_fashionmnist\",\"deepsets_max_ae_fashionmnist\",\"histnet_hard_ae_fashionmnist\",\n",
    "\"CC_fashionmnist\",\"PCC_fashionmnist\",\"AC_fashionmnist\",\"PAC_fashionmnist\",\"HDy_fashionmnist\",\n",
    "\"EM_fashionmnist\",\"EM-NBVS_fashionmnist\",\"EM-BCTS_fashionmnist\",\"EM-VS_fashionmnist\"]\n",
    "row_names  = [\"SetTransformers\",\"Deepsets (avg)\",\"Deepsets (median)\",\"Deepsets (max)\",\"HistNet\",\n",
    "\"CC\",\"PCC\",\"ACC\",\"PACC\",\"HDy\",\"EM\",\"EM-NBVS\",\"EM-BCTS\",\"EM-VS\"]\n",
    "#,\n",
    "fashionmnist_results,_=show_results_table(experiment_names,row_names = row_names, base_path=\"cifar_mnist\",error_measures=['AE'])\n",
    "print(fashionmnist_results)\n",
    "\n",
    "experiment_names = [\"settransformers_rae_fashionmnist\",\"deepsets_avg_rae_fashionmnist\",\"deepsets_median_rae_fashionmnist\",\"deepsets_max_rae_fashionmnist\",\"histnet_hard_rae_fashionmnist\",\n",
    "\"CC_fashionmnist\",\"PCC_fashionmnist\",\"AC_fashionmnist\",\"PAC_fashionmnist\",\"HDy_fashionmnist\",\n",
    "\"EM_fashionmnist\",\"EM-NBVS_fashionmnist\",\"EM-BCTS_fashionmnist\",\"EM-VS_fashionmnist\"]\n",
    "fashionmnist_results,_=show_results_table(experiment_names, row_names = row_names, base_path=\"cifar_mnist\",error_measures=['RAE'])\n",
    "print(fashionmnist_results)\n",
    "\n",
    "experiment_names = [\"settransformers_mse_fashionmnist\",\"deepsets_avg_mse_fashionmnist\",\"deepsets_median_mse_fashionmnist\",\"deepsets_max_mse_fashionmnist\",\"histnet_hard_mse_fashionmnist\",\n",
    "\"CC_fashionmnist\",\"PCC_fashionmnist\",\"AC_fashionmnist\",\"PAC_fashionmnist\",\"HDy_fashionmnist\",\n",
    "\"EM_fashionmnist\",\"EM-NBVS_fashionmnist\",\"EM-BCTS_fashionmnist\",\"EM-VS_fashionmnist\"]\n",
    "fashionmnist_results,_=show_results_table(experiment_names, row_names = row_names, base_path=\"cifar_mnist\",error_measures=['MSE'])\n",
    "print(fashionmnist_results)"
   ]
  },
  {
   "attachments": {},
   "cell_type": "markdown",
   "metadata": {},
   "source": [
    "## Optimizando diferentes medidas de error"
   ]
  },
  {
   "cell_type": "code",
   "execution_count": 21,
   "metadata": {},
   "outputs": [
    {
     "name": "stdout",
     "output_type": "stream",
     "text": [
      "\\begin{tabular}{r|rr}\n",
      "\\toprule\n",
      "{} & {AE} & {RAE} & {MSE} \\\\\n",
      "\\midrule\n",
      "histnet\\_hard\\_ae\\_pretrained\\_cifar10 & \\ddag{0.010319} & 0.404029 & 0.000210 \\\\\n",
      "histnet\\_hard\\_rae\\_pretrained\\_cifar10 & 0.011900 & \\textbf{0.293156} & 0.000293 \\\\\n",
      "histnet\\_hard\\_mse\\_pretrained\\_cifar10 & \\textbf{0.010241} & 0.448482 & \\textbf{0.000182} \\\\\n",
      "\\bottomrule\n",
      "\\end{tabular}\n",
      "\n"
     ]
    },
    {
     "data": {
      "image/png": "[encoded data removed]",
      "text/plain": [
       "<Figure size 432x288 with 1 Axes>"
      ]
     },
     "metadata": {
      "needs_background": "light"
     },
     "output_type": "display_data"
    }
   ],
   "source": [
    "experiment_names = [\"histnet_hard_ae_pretrained_cifar10\",\"histnet_hard_rae_pretrained_cifar10\",\"histnet_hard_mse_pretrained_cifar10\"]\n",
    "#,\n",
    "cifar10_results=show_results_table(experiment_names,base_path=\"cifar_mnist\",add_mse=True)\n",
    "print(cifar10_results)\n",
    "with open(os.path.join(export_dir,'tables/cifar10.tex'),'w') as f:\n",
    "    f.write(cifar10_results)"
   ]
  },
  {
   "cell_type": "markdown",
   "metadata": {},
   "source": [
    "## Comparación con baselines la competición LEQUA"
   ]
  },
  {
   "cell_type": "code",
   "execution_count": null,
   "metadata": {},
   "outputs": [],
   "source": [
    "from dlquantification.utils.lossfunc import MRAE\n",
    "import torch\n",
    "\n",
    "def compute_errors(baselines,baseline_path,test_prevalences,dataset,loss_mrae):\n",
    "    test_prevalences = pd.read_csv(test_prevalences)\n",
    "    for baseline in baselines:\n",
    "        export_path = os.path.join(\"results/\", baseline + \"_\"+dataset+\"_errors.txt\")\n",
    "        if not os.path.exists(export_path):\n",
    "            errors = pd.DataFrame(columns=('AE','RAE'),index=range(5000))\n",
    "            results = pd.read_csv(os.path.join(baseline_path,baseline)+'.csv')\n",
    "            for i in range(len(results)):\n",
    "                errors.iloc[i]['RAE']=loss_mrae(torch.FloatTensor(test_prevalences.iloc[i,1:].to_numpy()), torch.FloatTensor(results.iloc[i,1:].to_numpy())).numpy()\n",
    "                errors.iloc[i]['AE']=torch.nn.functional.l1_loss(torch.FloatTensor(test_prevalences.iloc[i,1:].to_numpy()), torch.FloatTensor(results.iloc[i,1:].to_numpy())).numpy()\n",
    "            errors.to_csv(export_path, index_label=\"id\")\n",
    "\n",
    "\n",
    "baselines=['CC','ACC','HDy','PACC','PCC','QuaNet','SLD']\n",
    "#For this experiments we need to compute the errors as we only have the predictions\n",
    "\n",
    "loss_mrae = MRAE(eps=1.0 / (2 * 250), n_classes=2).MRAE\n",
    "baseline_path_T1A = os.path.join(path,'codalab/T1A')\n",
    "test_prevalences = './lequa/T1A/public/test_prevalences.txt'\n",
    "compute_errors(baselines,baseline_path_T1A,test_prevalences,'T1A',loss_mrae)\n",
    "baselines=['CC','ACC','PACC','PCC','SLD']\n",
    "loss_mrae = MRAE(eps=1.0 / (2 * 1000), n_classes=28).MRAE\n",
    "baseline_path_T1B = os.path.join(path,'codalab/T1B')\n",
    "test_prevalences = './lequa/T1B/public/test_prevalences.txt'\n",
    "compute_errors(baselines,baseline_path_T1B,test_prevalences,'T1B',loss_mrae)"
   ]
  },
  {
   "cell_type": "code",
   "execution_count": null,
   "metadata": {},
   "outputs": [
    {
     "name": "stdout",
     "output_type": "stream",
     "text": [
      "\\begin{tabular}{r|rr}\n",
      "\\toprule\n",
      "{} & {AE} & {RAE} \\\\\n",
      "\\midrule\n",
      "CC\\_T1A & 0.091604 & 1.083997 \\\\\n",
      "PCC\\_T1A & 0.116639 & 1.394021 \\\\\n",
      "ACC\\_T1A & 0.037157 & 0.170201 \\\\\n",
      "PACC\\_T1A & 0.029849 & 0.152185 \\\\\n",
      "HDy\\_T1A & 0.028143 & 0.145141 \\\\\n",
      "QuaNet\\_T1A & 0.034183 & 0.317637 \\\\\n",
      "SLD\\_T1A & 0.025184 & 0.113823 \\\\\n",
      "histnet\\_hard\\_T1A & \\textbf{0.022365} & \\textbf{0.107073} \\\\\n",
      "\\bottomrule\n",
      "\\end{tabular}\n",
      "\n"
     ]
    },
    {
     "data": {
      "image/png": "[encoded data removed]",
      "text/plain": [
       "<Figure size 432x288 with 1 Axes>"
      ]
     },
     "metadata": {
      "needs_background": "light"
     },
     "output_type": "display_data"
    }
   ],
   "source": [
    "experiment_names = [\"CC_T1A\",\"PCC_T1A\",\"ACC_T1A\",\"PACC_T1A\",\"HDy_T1A\",\"QuaNet_T1A\",\"SLD_T1A\",\"histnet_hard_T1A\"]\n",
    "baseline_results=show_results_table(experiment_names)\n",
    "print(baseline_results)\n",
    "with open(os.path.join(export_dir,'tables/baselines_t1a.tex'),'w') as f:\n",
    "    f.write(baseline_results)"
   ]
  },
  {
   "cell_type": "code",
   "execution_count": null,
   "metadata": {},
   "outputs": [
    {
     "name": "stdout",
     "output_type": "stream",
     "text": [
      "\\begin{tabular}{r|rr}\n",
      "\\toprule\n",
      "{} & {AE} & {RAE} \\\\\n",
      "\\midrule\n",
      "CC\\_T1B & 0.014056 & 1.893649 \\\\\n",
      "PCC\\_T1B & 0.017114 & 2.264615 \\\\\n",
      "ACC\\_T1B & 0.018412 & 1.421342 \\\\\n",
      "PACC\\_T1B & 0.015777 & 1.305378 \\\\\n",
      "SLD\\_T1B & 0.019763 & 1.182070 \\\\\n",
      "histnet\\_hard\\_T1B & \\textbf{0.012119} & \\textbf{0.785138} \\\\\n",
      "\\bottomrule\n",
      "\\end{tabular}\n",
      "\n"
     ]
    },
    {
     "data": {
      "image/png": "[encoded data removed]",
      "text/plain": [
       "<Figure size 432x288 with 1 Axes>"
      ]
     },
     "metadata": {
      "needs_background": "light"
     },
     "output_type": "display_data"
    }
   ],
   "source": [
    "experiment_names = [\"CC_T1B\",\"PCC_T1B\",\"ACC_T1B\",\"PACC_T1B\",\"SLD_T1B\",\"histnet_hard_T1B\"]\n",
    "baseline_results=show_results_table(experiment_names)\n",
    "print(baseline_results)\n",
    "with open(os.path.join(export_dir,'tables/baselines_t1b.tex'),'w') as f:\n",
    "    f.write(baseline_results)"
   ]
  }
 ],
 "metadata": {
  "kernelspec": {
   "display_name": "histnet",
   "language": "python",
   "name": "python3"
  },
  "language_info": {
   "codemirror_mode": {
    "name": "ipython",
    "version": 3
   },
   "file_extension": ".py",
   "mimetype": "text/x-python",
   "name": "python",
   "nbconvert_exporter": "python",
   "pygments_lexer": "ipython3",
   "version": "3.9.7 (default, Sep 16 2021, 13:09:58) \n[GCC 7.5.0]"
  },
  "vscode": {
   "interpreter": {
    "hash": "4c8014f73ddd10ff49ad5404a22c3da7cfba1832c468d85b8f66804bcea46389"
   }
  }
 },
 "nbformat": 4,
 "nbformat_minor": 2
}
